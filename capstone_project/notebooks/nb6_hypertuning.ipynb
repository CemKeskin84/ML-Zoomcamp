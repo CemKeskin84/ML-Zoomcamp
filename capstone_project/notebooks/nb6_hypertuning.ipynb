{
 "cells": [
  {
   "cell_type": "code",
   "execution_count": 1,
   "metadata": {},
   "outputs": [
    {
     "name": "stderr",
     "output_type": "stream",
     "text": [
      "2021-12-14 04:55:22.687584: W tensorflow/stream_executor/platform/default/dso_loader.cc:64] Could not load dynamic library 'libcudart.so.11.0'; dlerror: libcudart.so.11.0: cannot open shared object file: No such file or directory\n",
      "2021-12-14 04:55:22.687606: I tensorflow/stream_executor/cuda/cudart_stub.cc:29] Ignore above cudart dlerror if you do not have a GPU set up on your machine.\n"
     ]
    }
   ],
   "source": [
    "import tensorflow\n",
    "from tensorflow import keras\n",
    "from tensorflow.keras.models import Sequential\n",
    "from tensorflow.keras.layers import Flatten\n",
    "from tensorflow.keras.layers import Dropout\n",
    "from tensorflow.keras.layers import Dense\n",
    "from tensorflow.keras.optimizers import Adam\n",
    "\n",
    "from keras.models import Sequential\n",
    "from keras.layers import Dense,Activation,Flatten,Dropout\n",
    "from keras.layers import Conv2D,MaxPooling2D\n",
    "from keras.callbacks import ModelCheckpoint\n",
    "from keras import backend as K\n",
    "\n",
    "\n",
    "import numpy as np\n",
    "import matplotlib.pyplot as plt\n",
    "\n",
    "from tensorflow import keras\n",
    "from tensorflow.keras import layers\n",
    "from tensorflow.keras import models\n",
    "from tensorflow.keras import optimizers\n",
    "from tensorflow.keras.preprocessing.image import ImageDataGenerator"
   ]
  },
  {
   "cell_type": "code",
   "execution_count": 2,
   "metadata": {},
   "outputs": [],
   "source": [
    "def build_model(input_shape=(100, 100, 3), dropout=0.7, learnRate=0.01):\n",
    "\tmodel = Sequential()\n",
    "\n",
    "\tmodel.add(Conv2D(32,(3,3),input_shape=input_shape))\n",
    "\tmodel.add(Activation('relu'))\n",
    "\tmodel.add(MaxPooling2D(pool_size=(2,2)))\n",
    "\n",
    "\tmodel.add(Conv2D(16,(3,3)))\n",
    "\tmodel.add(Activation('relu'))\n",
    "\tmodel.add(MaxPooling2D(pool_size=(2,2)))\n",
    "\n",
    "\tmodel.add(Flatten())\n",
    "\tmodel.add(Dropout(dropout))\n",
    "\tmodel.add(Dense(8,activation='relu'))\n",
    "\tmodel.add(Dense(1,activation='sigmoid'))\n",
    "\tmodel.compile(loss='binary_crossentropy',\\\n",
    "\t\t\t\toptimizer=optimizers.SGD(learning_rate=learnRate, momentum=0.9),metrics=['acc']\n",
    "\t\t\t\t)\n",
    "\n",
    "\n",
    "\treturn model"
   ]
  },
  {
   "cell_type": "code",
   "execution_count": 3,
   "metadata": {},
   "outputs": [
    {
     "name": "stdout",
     "output_type": "stream",
     "text": [
      "Found 824 images belonging to 2 classes.\n"
     ]
    }
   ],
   "source": [
    "train_dir = '../data/train'\n",
    "\n",
    "train_datagen = ImageDataGenerator(rescale=1./255)\n",
    "\n",
    "train_generator = train_datagen.flow_from_directory(train_dir,\n",
    "                                                    target_size=(100, 100),\n",
    "                                                    batch_size=20,\n",
    "                                                    class_mode='binary'\n",
    "                                                    )"
   ]
  },
  {
   "cell_type": "code",
   "execution_count": 4,
   "metadata": {},
   "outputs": [
    {
     "name": "stdout",
     "output_type": "stream",
     "text": [
      "Found 274 images belonging to 2 classes.\n"
     ]
    }
   ],
   "source": [
    "valid_dir = '../data/validation'\n",
    "\n",
    "val_datagen = ImageDataGenerator(rescale=1./255)\n",
    "validation_generator = val_datagen.flow_from_directory(valid_dir,\n",
    "                                                        target_size=(100, 100),\n",
    "                                                        batch_size=20,\n",
    "                                                        class_mode='binary')"
   ]
  },
  {
   "cell_type": "code",
   "execution_count": 5,
   "metadata": {},
   "outputs": [],
   "source": [
    "from tensorflow.keras.wrappers.scikit_learn import KerasClassifier\n",
    "\n",
    "model = KerasClassifier(build_fn=build_model, verbose=0)\n",
    "\n",
    "grid = dict(\n",
    "\tinput_shape=[(100, 100, 3), (75,75,3)],\n",
    "\tlearnRate=[1e-2, 3e-2],\n",
    "\tdropout=[0.7, 0.5],\n",
    "\tbatch_size=[10, 20], \n",
    "\tepochs=[10]\n",
    ")\n"
   ]
  },
  {
   "cell_type": "code",
   "execution_count": 6,
   "metadata": {},
   "outputs": [
    {
     "data": {
      "text/plain": [
       "(820, 100, 100, 3)"
      ]
     },
     "execution_count": 6,
     "metadata": {},
     "output_type": "execute_result"
    }
   ],
   "source": [
    "image_number = train_generator.n  \n",
    "batch_size = 20\n",
    "steps = image_number // batch_size\n",
    "\n",
    "import array\n",
    "\n",
    "\n",
    "X , y = [] , []\n",
    "for i in range(steps):\n",
    "    a , b = train_generator.next()\n",
    "    X.extend(a)\n",
    "    y.extend(b)\n",
    "\n",
    "X = np.array(X)\n",
    "\n",
    "X.shape"
   ]
  },
  {
   "cell_type": "code",
   "execution_count": null,
   "metadata": {},
   "outputs": [],
   "source": [
    "from sklearn.model_selection import RandomizedSearchCV\n",
    "\n",
    "searcher = RandomizedSearchCV(estimator=model, n_jobs=-1, cv=3,\n",
    "\tparam_distributions=grid, scoring=\"accuracy\", verbose=0, random_state=100)\n",
    "\n",
    "\n",
    "searchResults = searcher.fit(X,y)\n",
    "\n",
    "bestScore = searchResults.best_score_\n",
    "bestParams = searchResults.best_params_\n",
    "print(\"Best score is {:.3f} with {}\".format(bestScore,\n",
    "\tbestParams))\n"
   ]
  },
  {
   "cell_type": "code",
   "execution_count": 8,
   "metadata": {},
   "outputs": [
    {
     "name": "stdout",
     "output_type": "stream",
     "text": [
      "Best score is 0.956 with {'learnRate': 0.01, 'input_shape': (100, 100, 3), 'epochs': 10, 'dropout': 0.5, 'batch_size': 10}\n"
     ]
    }
   ],
   "source": [
    "bestScore = searchResults.best_score_\n",
    "bestParams = searchResults.best_params_\n",
    "print(\"Best score is {:.3f} with {}\".format(bestScore,\n",
    "\tbestParams))"
   ]
  }
 ],
 "metadata": {
  "interpreter": {
   "hash": "67de9129e85b6ce40c6d317f2103d3ac6b9c38842974809819d8338464ec6a5c"
  },
  "kernelspec": {
   "display_name": "Python 3.9.5 64-bit ('capstone--Jvhu1NK': pipenv)",
   "language": "python",
   "name": "python3"
  },
  "language_info": {
   "codemirror_mode": {
    "name": "ipython",
    "version": 3
   },
   "file_extension": ".py",
   "mimetype": "text/x-python",
   "name": "python",
   "nbconvert_exporter": "python",
   "pygments_lexer": "ipython3",
   "version": "3.9.5"
  },
  "orig_nbformat": 4
 },
 "nbformat": 4,
 "nbformat_minor": 2
}
