{
 "cells": [
  {
   "cell_type": "markdown",
   "metadata": {},
   "source": [
    "- The link for the original Assignment8 document of MLzoomcamp by Alexey Grigorev:\n",
    "\n",
    "https://github.com/alexeygrigorev/mlbookcamp-code/blob/master/course-zoomcamp/08-deep-learning/homework.md\n",
    "\n",
    "- The data is available at:\n",
    "\n",
    "https://github.com/alexeygrigorev/large-datasets/releases/download/dogs-cats/train.zip"
   ]
  },
  {
   "cell_type": "code",
   "execution_count": 1,
   "metadata": {},
   "outputs": [],
   "source": [
    "import numpy as np\n",
    "import pandas as pd\n",
    "import matplotlib.pyplot as plt\n",
    "import seaborn as sns\n",
    "import tensorflow as tf\n",
    "from tensorflow import keras\n",
    "from tensorflow.keras.preprocessing.image import ImageDataGenerator\n",
    "from tensorflow.keras.models import Sequential\n"
   ]
  },
  {
   "cell_type": "code",
   "execution_count": 2,
   "metadata": {},
   "outputs": [],
   "source": [
    "path = '/home/chapar/Desktop/week8'\n",
    "train_folder = path + '/train'\n",
    "val_folder = path + '/validation'"
   ]
  },
  {
   "cell_type": "markdown",
   "metadata": {},
   "source": [
    "## Question 1-2"
   ]
  },
  {
   "cell_type": "code",
   "execution_count": 3,
   "metadata": {},
   "outputs": [
    {
     "name": "stdout",
     "output_type": "stream",
     "text": [
      "Model: \"sequential\"\n",
      "_________________________________________________________________\n",
      " Layer (type)                Output Shape              Param #   \n",
      "=================================================================\n",
      " Conv-Layer (Conv2D)         (None, 148, 148, 32)      896       \n",
      "                                                                 \n",
      " MaxPooling (MaxPooling2D)   (None, 74, 74, 32)        0         \n",
      "                                                                 \n",
      " Flatten (Flatten)           (None, 175232)            0         \n",
      "                                                                 \n",
      " inner_dense (Dense)         (None, 64)                11214912  \n",
      "                                                                 \n",
      " output (Dense)              (None, 1)                 65        \n",
      "                                                                 \n",
      "=================================================================\n",
      "Total params: 11,215,873\n",
      "Trainable params: 11,215,873\n",
      "Non-trainable params: 0\n",
      "_________________________________________________________________\n"
     ]
    }
   ],
   "source": [
    "Layers= [\n",
    "    keras.Input(shape=(150,150,3), name ='input'),\n",
    "\n",
    "    keras.layers.Conv2D(\n",
    "        filters = 32, \n",
    "        kernel_size = (3,3),\n",
    "        name = 'Conv-Layer',\n",
    "        activation = 'relu'\n",
    "    ),\n",
    "\n",
    "    keras.layers.MaxPool2D(pool_size=(2,2), name = 'MaxPooling'),\n",
    "    keras.layers.Flatten(name = 'Flatten'),\n",
    "    keras.layers.Dense(units = 64, activation='relu', name='inner_dense'),\n",
    "    keras.layers.Dense(units = 1, activation='sigmoid', name='output')\n",
    "        ]\n",
    "\n",
    "\n",
    "model = Sequential(Layers)\n",
    "optimizer = keras.optimizers.SGD(learning_rate = 0.002, momentum = 0.8)\n",
    "\n",
    "loss = keras.losses.BinaryCrossentropy()\n",
    "\n",
    "model.compile(loss = 'binary_crossentropy',\n",
    "             optimizer = optimizer,\n",
    "             metrics = ['accuracy'])\n",
    "\n",
    "model.summary()"
   ]
  },
  {
   "cell_type": "markdown",
   "metadata": {},
   "source": [
    "## Questions 3-4"
   ]
  },
  {
   "cell_type": "code",
   "execution_count": 4,
   "metadata": {},
   "outputs": [
    {
     "name": "stdout",
     "output_type": "stream",
     "text": [
      "Found 20000 images belonging to 2 classes.\n",
      "Found 5000 images belonging to 2 classes.\n",
      "Epoch 1/10\n",
      "100/100 [==============================] - 19s 182ms/step - loss: 0.6977 - accuracy: 0.4965 - val_loss: 0.6929 - val_accuracy: 0.5290\n",
      "Epoch 2/10\n",
      "100/100 [==============================] - 18s 180ms/step - loss: 0.6888 - accuracy: 0.5305 - val_loss: 0.6871 - val_accuracy: 0.5170\n",
      "Epoch 3/10\n",
      "100/100 [==============================] - 18s 180ms/step - loss: 0.6832 - accuracy: 0.5620 - val_loss: 0.6878 - val_accuracy: 0.5240\n",
      "Epoch 4/10\n",
      "100/100 [==============================] - 18s 180ms/step - loss: 0.6858 - accuracy: 0.5405 - val_loss: 0.6787 - val_accuracy: 0.5700\n",
      "Epoch 5/10\n",
      "100/100 [==============================] - 18s 180ms/step - loss: 0.6743 - accuracy: 0.5775 - val_loss: 0.6787 - val_accuracy: 0.5480\n",
      "Epoch 6/10\n",
      "100/100 [==============================] - 18s 179ms/step - loss: 0.6648 - accuracy: 0.6030 - val_loss: 0.6973 - val_accuracy: 0.5350\n",
      "Epoch 7/10\n",
      "100/100 [==============================] - 18s 181ms/step - loss: 0.6681 - accuracy: 0.5965 - val_loss: 0.6615 - val_accuracy: 0.6080\n",
      "Epoch 8/10\n",
      "100/100 [==============================] - 18s 180ms/step - loss: 0.6595 - accuracy: 0.6165 - val_loss: 0.6814 - val_accuracy: 0.5730\n",
      "Epoch 9/10\n",
      "100/100 [==============================] - 18s 178ms/step - loss: 0.6603 - accuracy: 0.6000 - val_loss: 0.6608 - val_accuracy: 0.5930\n",
      "Epoch 10/10\n",
      "100/100 [==============================] - 18s 178ms/step - loss: 0.6569 - accuracy: 0.6040 - val_loss: 0.6960 - val_accuracy: 0.5480\n",
      "##########\n",
      "\n"
     ]
    },
    {
     "data": {
      "text/plain": [
       "(0.5726999908685684, 0.013468660590120696)"
      ]
     },
     "execution_count": 4,
     "metadata": {},
     "output_type": "execute_result"
    }
   ],
   "source": [
    "idg_train = ImageDataGenerator(rescale=1./255)\n",
    "train_ds = idg_train.flow_from_directory(train_folder, target_size=(150, 150), class_mode='binary', batch_size=20) \n",
    "idg_val = ImageDataGenerator(rescale=1./255)\n",
    "val_ds = idg_val.flow_from_directory(val_folder, target_size = (150,150), class_mode = 'binary', batch_size = 20)\n",
    "\n",
    "model.compile(loss = 'binary_crossentropy', optimizer = optimizer, metrics=['accuracy'])\n",
    "model2 = model.fit(train_ds, steps_per_epoch=100, epochs=10, validation_data=val_ds, validation_steps=50)\n",
    "\n",
    "print('##########\\n')\n",
    "\n",
    "np.mean(model2.history['accuracy']), np.std(model2.history['loss'])"
   ]
  },
  {
   "cell_type": "markdown",
   "metadata": {},
   "source": [
    "# Questions 5-6"
   ]
  },
  {
   "cell_type": "code",
   "execution_count": 5,
   "metadata": {},
   "outputs": [
    {
     "name": "stdout",
     "output_type": "stream",
     "text": [
      "Found 20000 images belonging to 2 classes.\n",
      "Epoch 1/10\n",
      "100/100 [==============================] - 24s 239ms/step - loss: 0.6687 - accuracy: 0.5835 - val_loss: 0.6559 - val_accuracy: 0.6040\n",
      "Epoch 2/10\n",
      "100/100 [==============================] - 26s 257ms/step - loss: 0.6732 - accuracy: 0.5900 - val_loss: 0.6498 - val_accuracy: 0.6240\n",
      "Epoch 3/10\n",
      "100/100 [==============================] - 26s 256ms/step - loss: 0.6675 - accuracy: 0.5910 - val_loss: 0.6754 - val_accuracy: 0.5660\n",
      "Epoch 4/10\n",
      "100/100 [==============================] - 26s 254ms/step - loss: 0.6706 - accuracy: 0.5735 - val_loss: 0.6448 - val_accuracy: 0.6410\n",
      "Epoch 5/10\n",
      "100/100 [==============================] - 26s 256ms/step - loss: 0.6582 - accuracy: 0.5965 - val_loss: 0.6427 - val_accuracy: 0.6200\n",
      "Epoch 6/10\n",
      "100/100 [==============================] - 26s 256ms/step - loss: 0.6607 - accuracy: 0.6015 - val_loss: 0.6641 - val_accuracy: 0.5730\n",
      "Epoch 7/10\n",
      "100/100 [==============================] - 26s 255ms/step - loss: 0.6641 - accuracy: 0.5950 - val_loss: 0.6465 - val_accuracy: 0.6140\n",
      "Epoch 8/10\n",
      "100/100 [==============================] - 26s 256ms/step - loss: 0.6634 - accuracy: 0.5980 - val_loss: 0.6602 - val_accuracy: 0.5810\n",
      "Epoch 9/10\n",
      "100/100 [==============================] - 25s 253ms/step - loss: 0.6602 - accuracy: 0.6095 - val_loss: 0.6344 - val_accuracy: 0.6430\n",
      "Epoch 10/10\n",
      "100/100 [==============================] - 26s 256ms/step - loss: 0.6641 - accuracy: 0.5980 - val_loss: 0.6354 - val_accuracy: 0.6420\n",
      "##########\n",
      "\n"
     ]
    },
    {
     "data": {
      "text/plain": [
       "(0.6509189307689667, 0.6106000065803527)"
      ]
     },
     "execution_count": 5,
     "metadata": {},
     "output_type": "execute_result"
    }
   ],
   "source": [
    "idg_train2 = ImageDataGenerator(rescale=1./255, rotation_range=40, width_shift_range=0.2, height_shift_range=0.2, shear_range=0.2, zoom_range=0.2, horizontal_flip=True, fill_mode='nearest')\n",
    "train_ds = idg_train2.flow_from_directory(train_folder, target_size = (150,150), class_mode = 'binary', batch_size = 20)\n",
    "model3 = model.fit(train_ds, steps_per_epoch=100, epochs=10, validation_data=val_ds, validation_steps=50)\n",
    "\n",
    "print('##########\\n')\n",
    "\n",
    "np.mean(model3.history['val_loss']) , np.mean(model3.history['val_accuracy'][5:10])"
   ]
  }
 ],
 "metadata": {
  "interpreter": {
   "hash": "0c7d3ceb57354b4e39e49d16232c03f68a515e869e720f377246ac6e49bef098"
  },
  "kernelspec": {
   "display_name": "Python 3.8.11 64-bit ('ml-zoomcamp': conda)",
   "language": "python",
   "name": "python3"
  },
  "language_info": {
   "codemirror_mode": {
    "name": "ipython",
    "version": 3
   },
   "file_extension": ".py",
   "mimetype": "text/x-python",
   "name": "python",
   "nbconvert_exporter": "python",
   "pygments_lexer": "ipython3",
   "version": "3.8.8"
  },
  "orig_nbformat": 4
 },
 "nbformat": 4,
 "nbformat_minor": 2
}
