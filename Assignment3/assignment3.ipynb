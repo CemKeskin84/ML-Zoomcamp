{
 "cells": [
  {
   "cell_type": "markdown",
   "source": [
    "The link for the original Assignment3 document om ML_Zoomcamp by Alexey Grigorev of [Data Talks Club](https://datatalks.club/) is [here](https://github.com/alexeygrigorev/mlbookcamp-code/blob/master/course-zoomcamp/03-classification/homework.md).\n",
    "\n",
    "The link for the dataset used in the assignment is [here](https://www.kaggle.com/dgomonov/new-york-city-airbnb-open-data)."
   ],
   "metadata": {}
  },
  {
   "cell_type": "code",
   "execution_count": 1,
   "source": [
    "print(\"git deneme\")"
   ],
   "outputs": [
    {
     "output_type": "stream",
     "name": "stdout",
     "text": [
      "git deneme\n"
     ]
    }
   ],
   "metadata": {}
  },
  {
   "cell_type": "markdown",
   "source": [
    "deneme"
   ],
   "metadata": {}
  }
 ],
 "metadata": {
  "orig_nbformat": 4,
  "language_info": {
   "name": "python",
   "version": "3.8.11",
   "mimetype": "text/x-python",
   "codemirror_mode": {
    "name": "ipython",
    "version": 3
   },
   "pygments_lexer": "ipython3",
   "nbconvert_exporter": "python",
   "file_extension": ".py"
  },
  "kernelspec": {
   "name": "python3",
   "display_name": "Python 3.8.11 64-bit ('ml-zoomcamp': conda)"
  },
  "interpreter": {
   "hash": "034d71b4374958fb3174e01f7896f6db5ad3b7629d053e5c1ae6901e2ccfe010"
  }
 },
 "nbformat": 4,
 "nbformat_minor": 2
}