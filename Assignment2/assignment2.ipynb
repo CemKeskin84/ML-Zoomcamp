{
 "cells": [
  {
   "cell_type": "markdown",
   "source": [
    "Link to Assignment document:\n",
    "\n",
    "https://github.com/alexeygrigorev/mlbookcamp-code/blob/master/course-zoomcamp/02-regression/homework.md"
   ],
   "metadata": {}
  },
  {
   "cell_type": "code",
   "execution_count": 1,
   "source": [
    "import pandas as pd\n",
    "import numpy as np\n",
    "import seaborn as sns\n",
    "from matplotlib import pyplot as pyplot\n",
    "%matplotlib inline"
   ],
   "outputs": [],
   "metadata": {}
  },
  {
   "cell_type": "code",
   "execution_count": 2,
   "source": [
    "df = pd.read_csv('AB_NYC_2019.csv')\n",
    "selection = ['latitude', 'longitude', 'price', 'minimum_nights', 'number_of_reviews', 'reviews_per_month', 'calculated_host_listings_count', 'availability_365']\n",
    "df = df[selection]"
   ],
   "outputs": [],
   "metadata": {}
  },
  {
   "cell_type": "code",
   "execution_count": 3,
   "source": [
    "def quick_look(mydf, m=5):\n",
    "    print(f\"It is in type of {type(mydf)} and shape of {mydf.shape}\")\n",
    "    for col in df.columns:\n",
    "        print(str(col).upper(), \n",
    "            f\"column has {mydf[col].nunique()} unique values (in {mydf[col].dtypes} format) and {mydf[col].isnull().sum()} NaNs\")\n",
    "        print(mydf[col].unique()[:m], \"\\n\")\n",
    "\n",
    "quick_look(df, 5)"
   ],
   "outputs": [
    {
     "output_type": "stream",
     "name": "stdout",
     "text": [
      "It is in type of <class 'pandas.core.frame.DataFrame'> and shape of (48895, 8)\n",
      "LATITUDE column has 19048 unique values (in float64 format) and 0 NaNs\n",
      "[40.64749 40.75362 40.80902 40.68514 40.79851] \n",
      "\n",
      "LONGITUDE column has 14718 unique values (in float64 format) and 0 NaNs\n",
      "[-73.97237 -73.98377 -73.9419  -73.95976 -73.94399] \n",
      "\n",
      "PRICE column has 674 unique values (in int64 format) and 0 NaNs\n",
      "[149 225 150  89  80] \n",
      "\n",
      "MINIMUM_NIGHTS column has 109 unique values (in int64 format) and 0 NaNs\n",
      "[ 1  3 10 45  2] \n",
      "\n",
      "NUMBER_OF_REVIEWS column has 394 unique values (in int64 format) and 0 NaNs\n",
      "[  9  45   0 270  74] \n",
      "\n",
      "REVIEWS_PER_MONTH column has 937 unique values (in float64 format) and 10052 NaNs\n",
      "[0.21 0.38  nan 4.64 0.1 ] \n",
      "\n",
      "CALCULATED_HOST_LISTINGS_COUNT column has 47 unique values (in int64 format) and 0 NaNs\n",
      "[6 2 1 4 3] \n",
      "\n",
      "AVAILABILITY_365 column has 366 unique values (in int64 format) and 0 NaNs\n",
      "[365 355 194   0 129] \n",
      "\n"
     ]
    }
   ],
   "metadata": {}
  },
  {
   "cell_type": "code",
   "execution_count": 4,
   "source": [
    "sns.displot(df['price'][df['price']<500])"
   ],
   "outputs": [
    {
     "output_type": "execute_result",
     "data": {
      "text/plain": [
       "<seaborn.axisgrid.FacetGrid at 0x7f5f1b32d1c0>"
      ]
     },
     "metadata": {},
     "execution_count": 4
    },
    {
     "output_type": "display_data",
     "data": {
      "image/png": "[encoded data removed]",
      "text/plain": [
       "<Figure size 360x360 with 1 Axes>"
      ]
     },
     "metadata": {
      "needs_background": "light"
     }
    }
   ],
   "metadata": {}
  },
  {
   "cell_type": "markdown",
   "source": [
    "# Q1\n",
    "\n",
    "number_of_reviews: 10052"
   ],
   "metadata": {}
  },
  {
   "cell_type": "markdown",
   "source": [
    "# Q2"
   ],
   "metadata": {}
  },
  {
   "cell_type": "code",
   "execution_count": 5,
   "source": [
    "print( df[\"minimum_nights\"].median() )"
   ],
   "outputs": [
    {
     "output_type": "stream",
     "name": "stdout",
     "text": [
      "3.0\n"
     ]
    }
   ],
   "metadata": {}
  },
  {
   "cell_type": "markdown",
   "source": [
    "# Q3"
   ],
   "metadata": {}
  },
  {
   "cell_type": "code",
   "execution_count": 6,
   "source": [
    "df_org = df.copy()\n",
    "print(df.shape) # check the current shape\n",
    "price = np.log1p(df['price'])\n",
    "del df['price']\n",
    "print(df.shape) # check the final shape\n",
    "print(price.tail())  # see price"
   ],
   "outputs": [
    {
     "output_type": "stream",
     "name": "stdout",
     "text": [
      "(48895, 8)\n",
      "(48895, 7)\n",
      "48890    4.262680\n",
      "48891    3.713572\n",
      "48892    4.753590\n",
      "48893    4.025352\n",
      "48894    4.510860\n",
      "Name: price, dtype: float64\n"
     ]
    }
   ],
   "metadata": {}
  },
  {
   "cell_type": "code",
   "execution_count": 7,
   "source": [
    "def split_df(my_df, len_train=60, len_val=20, len_test=20, seed=42):\n",
    "    \"\"\"The function splits a DataFrame into train, validation and \n",
    "    test parts using the given portions(%).\n",
    "    !!! If you drop target valuable before splitting, take care \n",
    "    using same seed value both for the main body and target column\"\"\"\n",
    "\n",
    "    n = len(my_df)\n",
    "    n_val = int(n * (len_val/(len_train+len_val+len_test)))\n",
    "    n_test = int(n * (len_test/(len_train+len_val+len_test)))\n",
    "    n_train = n - n_val - n_test\n",
    "    #print(\"Length of train, validation and test parts:\", n_train, n_val, n_test)\n",
    "    \n",
    "    idx = np.arange(n)\n",
    "    np.random.seed(seed)\n",
    "    np.random.shuffle(idx)\n",
    "\n",
    "    my_df_train = my_df.iloc[idx[:n_train]]\n",
    "    my_df_val = my_df.iloc[idx[n_train:n_train+n_val]]\n",
    "    my_df_test = my_df.iloc[idx[n_train+n_val:]]\n",
    "\n",
    "    my_df_train = my_df_train.reset_index(drop=True)\n",
    "    my_df_val = my_df_val.reset_index(drop=True)\n",
    "    my_df_test = my_df_test.reset_index(drop=True)\n",
    "\n",
    "    return my_df_train, my_df_val, my_df_test\n",
    "\n"
   ],
   "outputs": [],
   "metadata": {}
  },
  {
   "cell_type": "code",
   "execution_count": 8,
   "source": [
    "df_train, df_val, df_test = split_df(df)\n",
    "price_train, price_val, price_test = split_df(price)\n",
    "\n",
    "# Instead one can devide the DataFrame into train, validation and test parts \n",
    "# with target column and then seperate them as main body and target column. "
   ],
   "outputs": [],
   "metadata": {}
  },
  {
   "cell_type": "code",
   "execution_count": 9,
   "source": [
    "def train_linear_regression(X, y):\n",
    "    ones = np.ones(X.shape[0])\n",
    "    X = np.column_stack([ones, X])\n",
    "\n",
    "    XTX = X.T.dot(X)\n",
    "    XTX_inv = np.linalg.inv(XTX)\n",
    "    w_full = XTX_inv.dot(X.T).dot(y)\n",
    "    \n",
    "    return w_full[0], w_full[1:]"
   ],
   "outputs": [],
   "metadata": {}
  },
  {
   "cell_type": "code",
   "execution_count": 10,
   "source": [
    "def rmse(y, y_pred):\n",
    "    se = (y - y_pred) ** 2\n",
    "    mse = se.mean()\n",
    "    return np.sqrt(mse)"
   ],
   "outputs": [],
   "metadata": {}
  },
  {
   "cell_type": "code",
   "execution_count": 11,
   "source": [
    "# Computations for filling with zero\n",
    "\n",
    "df_train_zero = df_train.copy().fillna(0)\n",
    "price_train_zero = price_train.copy().fillna(0)\n",
    "\n",
    "df_val_zero = df_val.copy().fillna(0)\n",
    "price_val_zero = price_val.copy().fillna(0).values\n",
    "\n",
    "w0_zero, w_zero = train_linear_regression(df_train_zero.values, price_train_zero.values)\n",
    "print(w0_zero, w_zero)\n",
    "\n",
    "price_pred_zero = w0_zero + df_val_zero.dot(w_zero)\n",
    "rmse(price_val_zero, price_pred_zero).round(2)"
   ],
   "outputs": [
    {
     "output_type": "stream",
     "name": "stdout",
     "text": [
      "-419.91265872315813 [ 1.30676225e+00 -5.02167855e+00 -5.59803110e-04 -4.07634897e-04\n",
      " -8.25470065e-03  1.33371320e-03  6.50203890e-04]\n"
     ]
    },
    {
     "output_type": "execute_result",
     "data": {
      "text/plain": [
       "0.64"
      ]
     },
     "metadata": {},
     "execution_count": 11
    }
   ],
   "metadata": {}
  },
  {
   "cell_type": "code",
   "execution_count": 12,
   "source": [
    "# Computations for filling with mean\n",
    "\n",
    "mean = df_train['reviews_per_month'].mean()\n",
    "\n",
    "df_train_mean = df_train.copy().fillna(mean)\n",
    "price_train_mean = price_train.copy().fillna(mean)\n",
    "\n",
    "df_val_mean = df_val.copy().fillna(mean)\n",
    "price_val_mean = price_val.copy().fillna(mean).values\n",
    "\n",
    "w0_mean, w_mean = train_linear_regression(df_train_mean.values, price_train_mean.values)\n",
    "\n",
    "price_pred_mean = w0_mean + df_val_mean.dot(w_mean)\n",
    "rmse(price_val_mean, price_pred_mean).round(2)"
   ],
   "outputs": [
    {
     "output_type": "execute_result",
     "data": {
      "text/plain": [
       "0.64"
      ]
     },
     "metadata": {},
     "execution_count": 12
    }
   ],
   "metadata": {}
  },
  {
   "cell_type": "markdown",
   "source": [
    "# Q4"
   ],
   "metadata": {}
  },
  {
   "cell_type": "code",
   "execution_count": 13,
   "source": [
    "def train_linear_regression_reg(X, y, r=0.001):\n",
    "    ones = np.ones(X.shape[0])\n",
    "    X = np.column_stack([ones, X])\n",
    "\n",
    "    XTX = X.T.dot(X)\n",
    "    XTX = XTX + r * np.eye(XTX.shape[0])\n",
    "\n",
    "    XTX_inv = np.linalg.inv(XTX)\n",
    "    w_full = XTX_inv.dot(X.T).dot(y)\n",
    "    \n",
    "    return w_full[0], w_full[1:]"
   ],
   "outputs": [],
   "metadata": {}
  },
  {
   "cell_type": "code",
   "execution_count": 14,
   "source": [
    "df_train_zero = df_train.copy().fillna(0)\n",
    "price_train_zero = price_train.copy().fillna(0)\n",
    "\n",
    "df_val_zero = df_val.copy().fillna(0)\n",
    "price_val_zero = price_val.copy().fillna(0).values\n",
    "\n",
    "r_list = [0, 0.000001, 0.0001, 0.001, 0.01, 0.1, 1, 5, 10]\n",
    "\n",
    "for r in r_list:\n",
    "    w0_zero, w_zero = train_linear_regression_reg(df_train_zero.values, price_train_zero.values, r)\n",
    "    price_pred_zero = w0_zero + df_val_zero.dot(w_zero)\n",
    "    r_rmse= rmse(price_val_zero, price_pred_zero).round(2)\n",
    "    print(r_rmse)"
   ],
   "outputs": [
    {
     "output_type": "stream",
     "name": "stdout",
     "text": [
      "0.64\n",
      "0.64\n",
      "0.64\n",
      "0.64\n",
      "0.66\n",
      "0.68\n",
      "0.68\n",
      "0.68\n",
      "0.68\n"
     ]
    }
   ],
   "metadata": {}
  },
  {
   "cell_type": "markdown",
   "source": [
    "# Q5"
   ],
   "metadata": {}
  },
  {
   "cell_type": "code",
   "execution_count": 15,
   "source": [
    "def seed_test(my_df, target_col,seed_list):\n",
    "    result = []\n",
    "    for i in seed_list:\n",
    "        y = np.log1p(my_df[target_col].copy())\n",
    "        X = my_df.drop([target_col], axis=1).copy()\n",
    "        y_train, y_val, y_test = split_df(y, 60, 20, 20, i)\n",
    "        X_train, X_val, X_test = split_df(X, 60, 20, 20, i)\n",
    "\n",
    "        X_train = X_train.fillna(0)\n",
    "        y_train = y_train.fillna(0)\n",
    "        X_val = X_val.fillna(0).values\n",
    "        y_val = y_val.fillna(0).values\n",
    "\n",
    "        w0, w = train_linear_regression(X_train.values, y_train.values)\n",
    "        y_pred = w0 + X_val.dot(w)\n",
    "        err = rmse(y_val, y_pred)\n",
    "        result.append(err)\n",
    "    return result\n",
    " "
   ],
   "outputs": [],
   "metadata": {}
  },
  {
   "cell_type": "code",
   "execution_count": 16,
   "source": [
    "test_list = [0, 1, 2, 3, 4, 5, 6, 7, 8, 9]\n",
    "\n",
    "result_list = seed_test(df_org, 'price', test_list)\n",
    "\n",
    "round(np.std(result_list),3)\n"
   ],
   "outputs": [
    {
     "output_type": "execute_result",
     "data": {
      "text/plain": [
       "0.008"
      ]
     },
     "metadata": {},
     "execution_count": 16
    }
   ],
   "metadata": {}
  },
  {
   "cell_type": "markdown",
   "source": [
    "# Q6"
   ],
   "metadata": {}
  },
  {
   "cell_type": "code",
   "execution_count": 17,
   "source": [
    "df2 = df_org.copy()\n",
    "\n",
    "y = np.log1p(df2[\"price\"].copy())\n",
    "X = df2.drop([\"price\"], axis=1).copy()\n",
    "\n",
    "y_train, y_val, y_test = split_df(y, 80, 0, 20, 9)\n",
    "X_train, X_val, X_test = split_df(X, 80, 0, 20, 9)\n",
    "\n",
    "X_train = X_train.fillna(0)\n",
    "y_train = y_train.fillna(0)\n",
    "#X_val = X_val.fillna(0).values\n",
    "#y_val = y_val.fillna(0).values\n",
    "\n",
    "X_test = X_test.fillna(0)\n",
    "y_test = y_test.fillna(0).values\n",
    "\n",
    "\n",
    "w0, w = train_linear_regression_reg(X_train.values, y_train.values, 0.001)\n",
    "\n",
    "y_pred = w0 + X_test.dot(w)\n",
    "\n",
    "\n",
    "err = rmse(y_test, y_pred)\n",
    "print(err)"
   ],
   "outputs": [
    {
     "output_type": "stream",
     "name": "stdout",
     "text": [
      "0.6452771348506992\n"
     ]
    }
   ],
   "metadata": {}
  }
 ],
 "metadata": {
  "orig_nbformat": 4,
  "language_info": {
   "name": "python",
   "version": "3.8.11",
   "mimetype": "text/x-python",
   "codemirror_mode": {
    "name": "ipython",
    "version": 3
   },
   "pygments_lexer": "ipython3",
   "nbconvert_exporter": "python",
   "file_extension": ".py"
  },
  "kernelspec": {
   "name": "python3",
   "display_name": "Python 3.8.11 64-bit ('ml-zoomcamp': conda)"
  },
  "interpreter": {
   "hash": "034d71b4374958fb3174e01f7896f6db5ad3b7629d053e5c1ae6901e2ccfe010"
  }
 },
 "nbformat": 4,
 "nbformat_minor": 2
}