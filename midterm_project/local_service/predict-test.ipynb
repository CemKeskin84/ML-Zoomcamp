{
 "cells": [
  {
   "cell_type": "code",
   "execution_count": 1,
   "metadata": {},
   "outputs": [],
   "source": [
    "import requests"
   ]
  },
  {
   "cell_type": "code",
   "execution_count": 2,
   "metadata": {},
   "outputs": [],
   "source": [
    "url = 'http://localhost:9696/predict'"
   ]
  },
  {
   "cell_type": "code",
   "execution_count": 3,
   "metadata": {},
   "outputs": [],
   "source": [
    "building = {\"compactness\": 0.9,\n",
    "        \"surface_area\": 563.5,\n",
    "        \"wall_area\": 318.5,\n",
    "        \"roof_area\": 122.5,\n",
    "        \"height\": 7.0,\n",
    "        \"orientation\": 5.0,\n",
    "        \"glazing_area\": 0.4,\n",
    "        \"glazing_distribution\": 4.0}"
   ]
  },
  {
   "cell_type": "code",
   "execution_count": 4,
   "metadata": {},
   "outputs": [
    {
     "name": "stdout",
     "output_type": "stream",
     "text": [
      "{'cooling': 35.88, 'heating': 36.23}\n"
     ]
    }
   ],
   "source": [
    "response = requests.post(url, json=building).json()\n",
    "\n",
    "print(response)"
   ]
  }
 ],
 "metadata": {
  "interpreter": {
   "hash": "07c69297a8b8b9e183b957290968302f9bb318be44dc3c300d4377f0866d0dbd"
  },
  "kernelspec": {
   "display_name": "Python 3.9.5 64-bit ('midterm_project-TBMLFfwK': pipenv)",
   "name": "python3"
  },
  "language_info": {
   "codemirror_mode": {
    "name": "ipython",
    "version": 3
   },
   "file_extension": ".py",
   "mimetype": "text/x-python",
   "name": "python",
   "nbconvert_exporter": "python",
   "pygments_lexer": "ipython3",
   "version": "3.9.5"
  },
  "orig_nbformat": 4
 },
 "nbformat": 4,
 "nbformat_minor": 2
}
