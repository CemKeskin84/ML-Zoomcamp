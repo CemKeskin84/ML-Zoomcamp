{
 "cells": [
  {
   "cell_type": "markdown",
   "source": [
    "The link for the original Assignment4 document om ML_Zoomcamp by Alexey Grigorev of [Data Talks Club](https://datatalks.club/) is [here](https://github.com/alexeygrigorev/mlbookcamp-code/blob/master/course-zoomcamp/04-evaluation/homework.md).\n",
    "\n",
    "The link for the dataset used in the assignment is [here](https://github.com/gastonstat/CreditSco)."
   ],
   "metadata": {}
  },
  {
   "cell_type": "markdown",
   "source": [
    "## Homework 4\n",
    "\n",
    "Use this notebook as a starter"
   ],
   "metadata": {}
  },
  {
   "cell_type": "code",
   "execution_count": 348,
   "source": [
    "import pandas as pd\n",
    "import numpy as np\n",
    "\n",
    "import matplotlib.pyplot as plt\n",
    "import seaborn as sns\n",
    "\n",
    "%matplotlib inline"
   ],
   "outputs": [],
   "metadata": {}
  },
  {
   "cell_type": "markdown",
   "source": [
    "Data:\n",
    "\n",
    "- https://github.com/gastonstat/CreditScoring\n",
    "- Also available [here](https://raw.githubusercontent.com/alexeygrigorev/mlbookcamp-code/master/chapter-06-trees/CreditScoring.csv)"
   ],
   "metadata": {}
  },
  {
   "cell_type": "code",
   "execution_count": 349,
   "source": [
    "!wget https://raw.githubusercontent.com/alexeygrigorev/mlbookcamp-code/master/chapter-06-trees/CreditScoring.csv"
   ],
   "outputs": [
    {
     "output_type": "stream",
     "name": "stdout",
     "text": [
      "--2021-10-03 14:26:16--  https://raw.githubusercontent.com/alexeygrigorev/mlbookcamp-code/master/chapter-06-trees/CreditScoring.csv\n",
      "Resolving raw.githubusercontent.com (raw.githubusercontent.com)... 185.199.109.133, 185.199.108.133, 185.199.111.133, ...\n",
      "Connecting to raw.githubusercontent.com (raw.githubusercontent.com)|185.199.109.133|:443... connected.\n",
      "HTTP request sent, awaiting response... 200 OK\n",
      "Length: 182489 (178K) [text/plain]\n",
      "Saving to: ‘CreditScoring.csv.9’\n",
      "\n",
      "CreditScoring.csv.9 100%[===================>] 178.21K  --.-KB/s    in 0.1s    \n",
      "\n",
      "2021-10-03 14:26:16 (1.75 MB/s) - ‘CreditScoring.csv.9’ saved [182489/182489]\n",
      "\n"
     ]
    }
   ],
   "metadata": {
    "scrolled": true
   }
  },
  {
   "cell_type": "markdown",
   "source": [
    "## Preparation \n",
    "\n",
    "We'll talk about this dataset in more details in week 6. But for now, use the following code to get started"
   ],
   "metadata": {}
  },
  {
   "cell_type": "code",
   "execution_count": 350,
   "source": [
    "df = pd.read_csv('CreditScoring.csv')\n",
    "df.columns = df.columns.str.lower()"
   ],
   "outputs": [],
   "metadata": {}
  },
  {
   "cell_type": "markdown",
   "source": [
    "Some of the features are encoded as numbers. Use the following code to de-code them:"
   ],
   "metadata": {}
  },
  {
   "cell_type": "code",
   "execution_count": 351,
   "source": [
    "status_values = {\n",
    "    1: 'ok',\n",
    "    2: 'default',\n",
    "    0: 'unk'\n",
    "}\n",
    "\n",
    "df.status = df.status.map(status_values)\n",
    "\n",
    "\n",
    "home_values = {\n",
    "    1: 'rent',\n",
    "    2: 'owner',\n",
    "    3: 'private',\n",
    "    4: 'ignore',\n",
    "    5: 'parents',\n",
    "    6: 'other',\n",
    "    0: 'unk'\n",
    "}\n",
    "\n",
    "df.home = df.home.map(home_values)\n",
    "\n",
    "marital_values = {\n",
    "    1: 'single',\n",
    "    2: 'married',\n",
    "    3: 'widow',\n",
    "    4: 'separated',\n",
    "    5: 'divorced',\n",
    "    0: 'unk'\n",
    "}\n",
    "\n",
    "df.marital = df.marital.map(marital_values)\n",
    "\n",
    "records_values = {\n",
    "    1: 'no',\n",
    "    2: 'yes',\n",
    "    0: 'unk'\n",
    "}\n",
    "\n",
    "df.records = df.records.map(records_values)\n",
    "\n",
    "job_values = {\n",
    "    1: 'fixed',\n",
    "    2: 'partime',\n",
    "    3: 'freelance',\n",
    "    4: 'others',\n",
    "    0: 'unk'\n",
    "}\n",
    "\n",
    "df.job = df.job.map(job_values)"
   ],
   "outputs": [],
   "metadata": {}
  },
  {
   "cell_type": "markdown",
   "source": [
    "Prepare the numerical variables:"
   ],
   "metadata": {}
  },
  {
   "cell_type": "code",
   "execution_count": 352,
   "source": [
    "for c in ['income', 'assets', 'debt']:\n",
    "    df[c] = df[c].replace(to_replace=99999999, value=0)"
   ],
   "outputs": [],
   "metadata": {}
  },
  {
   "cell_type": "markdown",
   "source": [
    "Remove clients with unknown default status"
   ],
   "metadata": {}
  },
  {
   "cell_type": "code",
   "execution_count": 353,
   "source": [
    "df = df[df.status != 'unk'].reset_index(drop=True)"
   ],
   "outputs": [],
   "metadata": {}
  },
  {
   "cell_type": "markdown",
   "source": [
    "Create the target variable"
   ],
   "metadata": {}
  },
  {
   "cell_type": "code",
   "execution_count": 354,
   "source": [
    "df['default'] = (df.status == 'default').astype(int)\n",
    "del df['status']"
   ],
   "outputs": [],
   "metadata": {}
  },
  {
   "cell_type": "code",
   "execution_count": 355,
   "source": [
    "df.head()"
   ],
   "outputs": [
    {
     "output_type": "execute_result",
     "data": {
      "text/html": [
       "<div>\n",
       "<style scoped>\n",
       "    .dataframe tbody tr th:only-of-type {\n",
       "        vertical-align: middle;\n",
       "    }\n",
       "\n",
       "    .dataframe tbody tr th {\n",
       "        vertical-align: top;\n",
       "    }\n",
       "\n",
       "    .dataframe thead th {\n",
       "        text-align: right;\n",
       "    }\n",
       "</style>\n",
       "<table border=\"1\" class=\"dataframe\">\n",
       "  <thead>\n",
       "    <tr style=\"text-align: right;\">\n",
       "      <th></th>\n",
       "      <th>seniority</th>\n",
       "      <th>home</th>\n",
       "      <th>time</th>\n",
       "      <th>age</th>\n",
       "      <th>marital</th>\n",
       "      <th>records</th>\n",
       "      <th>job</th>\n",
       "      <th>expenses</th>\n",
       "      <th>income</th>\n",
       "      <th>assets</th>\n",
       "      <th>debt</th>\n",
       "      <th>amount</th>\n",
       "      <th>price</th>\n",
       "      <th>default</th>\n",
       "    </tr>\n",
       "  </thead>\n",
       "  <tbody>\n",
       "    <tr>\n",
       "      <th>0</th>\n",
       "      <td>9</td>\n",
       "      <td>rent</td>\n",
       "      <td>60</td>\n",
       "      <td>30</td>\n",
       "      <td>married</td>\n",
       "      <td>no</td>\n",
       "      <td>freelance</td>\n",
       "      <td>73</td>\n",
       "      <td>129</td>\n",
       "      <td>0</td>\n",
       "      <td>0</td>\n",
       "      <td>800</td>\n",
       "      <td>846</td>\n",
       "      <td>0</td>\n",
       "    </tr>\n",
       "    <tr>\n",
       "      <th>1</th>\n",
       "      <td>17</td>\n",
       "      <td>rent</td>\n",
       "      <td>60</td>\n",
       "      <td>58</td>\n",
       "      <td>widow</td>\n",
       "      <td>no</td>\n",
       "      <td>fixed</td>\n",
       "      <td>48</td>\n",
       "      <td>131</td>\n",
       "      <td>0</td>\n",
       "      <td>0</td>\n",
       "      <td>1000</td>\n",
       "      <td>1658</td>\n",
       "      <td>0</td>\n",
       "    </tr>\n",
       "    <tr>\n",
       "      <th>2</th>\n",
       "      <td>10</td>\n",
       "      <td>owner</td>\n",
       "      <td>36</td>\n",
       "      <td>46</td>\n",
       "      <td>married</td>\n",
       "      <td>yes</td>\n",
       "      <td>freelance</td>\n",
       "      <td>90</td>\n",
       "      <td>200</td>\n",
       "      <td>3000</td>\n",
       "      <td>0</td>\n",
       "      <td>2000</td>\n",
       "      <td>2985</td>\n",
       "      <td>1</td>\n",
       "    </tr>\n",
       "    <tr>\n",
       "      <th>3</th>\n",
       "      <td>0</td>\n",
       "      <td>rent</td>\n",
       "      <td>60</td>\n",
       "      <td>24</td>\n",
       "      <td>single</td>\n",
       "      <td>no</td>\n",
       "      <td>fixed</td>\n",
       "      <td>63</td>\n",
       "      <td>182</td>\n",
       "      <td>2500</td>\n",
       "      <td>0</td>\n",
       "      <td>900</td>\n",
       "      <td>1325</td>\n",
       "      <td>0</td>\n",
       "    </tr>\n",
       "    <tr>\n",
       "      <th>4</th>\n",
       "      <td>0</td>\n",
       "      <td>rent</td>\n",
       "      <td>36</td>\n",
       "      <td>26</td>\n",
       "      <td>single</td>\n",
       "      <td>no</td>\n",
       "      <td>fixed</td>\n",
       "      <td>46</td>\n",
       "      <td>107</td>\n",
       "      <td>0</td>\n",
       "      <td>0</td>\n",
       "      <td>310</td>\n",
       "      <td>910</td>\n",
       "      <td>0</td>\n",
       "    </tr>\n",
       "  </tbody>\n",
       "</table>\n",
       "</div>"
      ],
      "text/plain": [
       "   seniority   home  time  age  marital records        job  expenses  income  \\\n",
       "0          9   rent    60   30  married      no  freelance        73     129   \n",
       "1         17   rent    60   58    widow      no      fixed        48     131   \n",
       "2         10  owner    36   46  married     yes  freelance        90     200   \n",
       "3          0   rent    60   24   single      no      fixed        63     182   \n",
       "4          0   rent    36   26   single      no      fixed        46     107   \n",
       "\n",
       "   assets  debt  amount  price  default  \n",
       "0       0     0     800    846        0  \n",
       "1       0     0    1000   1658        0  \n",
       "2    3000     0    2000   2985        1  \n",
       "3    2500     0     900   1325        0  \n",
       "4       0     0     310    910        0  "
      ]
     },
     "metadata": {},
     "execution_count": 355
    }
   ],
   "metadata": {}
  },
  {
   "cell_type": "code",
   "execution_count": 356,
   "source": [
    "print(df.dtypes)"
   ],
   "outputs": [
    {
     "output_type": "stream",
     "name": "stdout",
     "text": [
      "seniority     int64\n",
      "home         object\n",
      "time          int64\n",
      "age           int64\n",
      "marital      object\n",
      "records      object\n",
      "job          object\n",
      "expenses      int64\n",
      "income        int64\n",
      "assets        int64\n",
      "debt          int64\n",
      "amount        int64\n",
      "price         int64\n",
      "default       int64\n",
      "dtype: object\n"
     ]
    }
   ],
   "metadata": {}
  },
  {
   "cell_type": "code",
   "execution_count": 357,
   "source": [
    "df.nunique()"
   ],
   "outputs": [
    {
     "output_type": "execute_result",
     "data": {
      "text/plain": [
       "seniority      47\n",
       "home            7\n",
       "time           11\n",
       "age            50\n",
       "marital         6\n",
       "records         2\n",
       "job             5\n",
       "expenses       94\n",
       "income        352\n",
       "assets        159\n",
       "debt          182\n",
       "amount        285\n",
       "price        1419\n",
       "default         2\n",
       "dtype: int64"
      ]
     },
     "metadata": {},
     "execution_count": 357
    }
   ],
   "metadata": {}
  },
  {
   "cell_type": "markdown",
   "source": [
    "## Your code"
   ],
   "metadata": {}
  },
  {
   "cell_type": "markdown",
   "source": [
    "What are the categorical variables? What are the numerical?"
   ],
   "metadata": {}
  },
  {
   "cell_type": "code",
   "execution_count": 358,
   "source": [
    "categorical = list(df.dtypes[df.dtypes == 'object'].index)\n",
    "numerical = list(df.dtypes[df.dtypes != 'object'].index)\n",
    "\n",
    "categorical, numerical"
   ],
   "outputs": [
    {
     "output_type": "execute_result",
     "data": {
      "text/plain": [
       "(['home', 'marital', 'records', 'job'],\n",
       " ['seniority',\n",
       "  'time',\n",
       "  'age',\n",
       "  'expenses',\n",
       "  'income',\n",
       "  'assets',\n",
       "  'debt',\n",
       "  'amount',\n",
       "  'price',\n",
       "  'default'])"
      ]
     },
     "metadata": {},
     "execution_count": 358
    }
   ],
   "metadata": {}
  },
  {
   "cell_type": "markdown",
   "source": [
    "Split the data into 3 parts: train/validation/test with 60%/20%/20% distribution. Use `train_test_split` funciton for that with `random_state=1`"
   ],
   "metadata": {}
  },
  {
   "cell_type": "code",
   "execution_count": 359,
   "source": [
    "from sklearn.model_selection import train_test_split"
   ],
   "outputs": [],
   "metadata": {}
  },
  {
   "cell_type": "code",
   "execution_count": 360,
   "source": [
    "df_temporary_train, df_test = train_test_split(df, test_size=0.2, random_state=1)\n",
    "df_train, df_val = train_test_split(df_temporary_train, test_size=0.25, random_state=1)"
   ],
   "outputs": [],
   "metadata": {}
  },
  {
   "cell_type": "code",
   "execution_count": 361,
   "source": [
    "df_train.shape, df_val.shape, df_test.shape"
   ],
   "outputs": [
    {
     "output_type": "execute_result",
     "data": {
      "text/plain": [
       "((2672, 14), (891, 14), (891, 14))"
      ]
     },
     "metadata": {},
     "execution_count": 361
    }
   ],
   "metadata": {}
  },
  {
   "cell_type": "code",
   "execution_count": 362,
   "source": [
    "df_train = df_train.reset_index(drop=True)\n",
    "df_val = df_val.reset_index(drop=True)\n",
    "df_test = df_test.reset_index(drop=True)\n",
    "\n",
    "y_train = df_train.default.values\n",
    "y_val = df_val.default.values\n",
    "y_test = df_test.default.values\n",
    "\n",
    "# Keep those for the first question\n",
    "# del df_train['default']\n",
    "#del df_val['default']\n",
    "#del df_test['default']"
   ],
   "outputs": [],
   "metadata": {}
  },
  {
   "cell_type": "code",
   "execution_count": 363,
   "source": [
    "df_train.shape, df_val.shape, df_test.shape, y_train.shape, y_val.shape, y_test.shape, "
   ],
   "outputs": [
    {
     "output_type": "execute_result",
     "data": {
      "text/plain": [
       "((2672, 14), (891, 14), (891, 14), (2672,), (891,), (891,))"
      ]
     },
     "metadata": {},
     "execution_count": 363
    }
   ],
   "metadata": {}
  },
  {
   "cell_type": "markdown",
   "source": [
    "## Question 1\n",
    "\n",
    "ROC AUC could also be used to evaluate feature importance of numerical variables. \n",
    "\n",
    "Let's do that\n",
    "\n",
    "* For each numerical variable, use it as score and compute AUC with the \"default\" variable\n",
    "* Use the training dataset for that\n",
    "\n",
    "\n",
    "If your AUC is < 0.5, invert this variable by putting \"-\" in front\n",
    "\n",
    "(e.g. `-df_train['expenses']`)\n",
    "\n",
    "AUC can go below 0.5 if the variable is negatively correlated with the target varialble. You can change the direction of the correlation by negating this variable - then negative correlation becomes positive."
   ],
   "metadata": {}
  },
  {
   "cell_type": "code",
   "execution_count": 364,
   "source": [
    "from sklearn.metrics import roc_auc_score"
   ],
   "outputs": [],
   "metadata": {}
  },
  {
   "cell_type": "code",
   "execution_count": 365,
   "source": [
    "importance_dict = {}\n",
    "for i in numerical:\n",
    "    if roc_auc_score(y_train, df_train[i].values) < 0.5:\n",
    "        importance = roc_auc_score(y_train, -df_train[i].values)\n",
    "        print(\"AUC for\", i, \": \", importance)\n",
    "        importance_dict[i] = importance\n",
    "    else:\n",
    "        importance = roc_auc_score(y_train, df_train[i].values)\n",
    "        print(\"AUC for\", i, \": \", importance)\n",
    "        importance_dict[i] = importance\n",
    "\n",
    "most_important = sorted(importance_dict.items(), key=lambda x: x[1], reverse=True)[1][0]\n",
    "print(f\"The threshold with the highest accuracy is: {most_important}\")"
   ],
   "outputs": [
    {
     "output_type": "stream",
     "name": "stdout",
     "text": [
      "AUC for seniority :  0.7093778624491943\n",
      "AUC for time :  0.5608662489595051\n",
      "AUC for age :  0.5732933272499939\n",
      "AUC for expenses :  0.5009184217217011\n",
      "AUC for income :  0.682006666132633\n",
      "AUC for assets :  0.6486042567122802\n",
      "AUC for debt :  0.5047829675783548\n",
      "AUC for amount :  0.5910773431595518\n",
      "AUC for price :  0.5043329862114843\n",
      "AUC for default :  1.0\n",
      "The threshold with the highest accuracy is: seniority\n"
     ]
    }
   ],
   "metadata": {}
  },
  {
   "cell_type": "markdown",
   "source": [
    "Which numerical variable (among the following 4) has the highest AUC?\n",
    "\n",
    "- seniority\n",
    "- time\n",
    "- income\n",
    "- debt"
   ],
   "metadata": {}
  },
  {
   "cell_type": "markdown",
   "source": [
    "## Training the model\n",
    "\n",
    "From now on, use these columns only:\n",
    "\n",
    "```\n",
    "['seniority', 'income', 'assets', 'records', 'job', 'home']\n",
    "```\n",
    "\n",
    "Apply one-hot-encoding using `DictVectorizer` and train the logistic regression with these parameters:\n",
    "\n",
    "```\n",
    "LogisticRegression(solver='liblinear', C=1.0, max_iter=1000)\n",
    "```"
   ],
   "metadata": {}
  },
  {
   "cell_type": "code",
   "execution_count": 366,
   "source": [
    "selected = ['seniority', 'income', 'assets', 'records', 'job', 'home']\n",
    "\n",
    "df_train = df_train[selected]\n",
    "df_val = df_val[selected]\n",
    "df_test = df_test[selected]\n",
    "\n",
    "df_train.shape, df_val.shape, df_test.shape\n"
   ],
   "outputs": [
    {
     "output_type": "execute_result",
     "data": {
      "text/plain": [
       "((2672, 6), (891, 6), (891, 6))"
      ]
     },
     "metadata": {},
     "execution_count": 366
    }
   ],
   "metadata": {}
  },
  {
   "cell_type": "code",
   "execution_count": 367,
   "source": [
    "from sklearn.feature_extraction import DictVectorizer\n",
    "from sklearn.linear_model import LogisticRegression\n"
   ],
   "outputs": [],
   "metadata": {}
  },
  {
   "cell_type": "code",
   "execution_count": 368,
   "source": [
    "dv = DictVectorizer(sparse=False)\n",
    "\n",
    "train_dict = df_train.to_dict(orient='records')\n",
    "X_train = dv.fit_transform(train_dict)\n",
    "\n",
    "val_dict = df_val.to_dict(orient='records')\n",
    "X_val = dv.transform(val_dict)"
   ],
   "outputs": [],
   "metadata": {}
  },
  {
   "cell_type": "code",
   "execution_count": 369,
   "source": [
    "dv.get_feature_names()"
   ],
   "outputs": [
    {
     "output_type": "execute_result",
     "data": {
      "text/plain": [
       "['assets',\n",
       " 'home=ignore',\n",
       " 'home=other',\n",
       " 'home=owner',\n",
       " 'home=parents',\n",
       " 'home=private',\n",
       " 'home=rent',\n",
       " 'home=unk',\n",
       " 'income',\n",
       " 'job=fixed',\n",
       " 'job=freelance',\n",
       " 'job=others',\n",
       " 'job=partime',\n",
       " 'job=unk',\n",
       " 'records=no',\n",
       " 'records=yes',\n",
       " 'seniority']"
      ]
     },
     "metadata": {},
     "execution_count": 369
    }
   ],
   "metadata": {}
  },
  {
   "cell_type": "code",
   "execution_count": 370,
   "source": [
    "model = LogisticRegression(solver='liblinear', C=1.0, max_iter=1000)\n",
    "model.fit(X_train, y_train)"
   ],
   "outputs": [
    {
     "output_type": "execute_result",
     "data": {
      "text/plain": [
       "LogisticRegression(max_iter=1000, solver='liblinear')"
      ]
     },
     "metadata": {},
     "execution_count": 370
    }
   ],
   "metadata": {}
  },
  {
   "cell_type": "code",
   "execution_count": 371,
   "source": [
    "val_dict = df_val.to_dict(orient='records')\n",
    "X_val = dv.transform(val_dict)\n",
    "\n",
    "y_pred = model.predict_proba(X_val)[:, 1]\n",
    "decision = (y_pred >= 0.5)\n",
    "accuracy = (y_val == decision).mean()\n",
    "\n",
    "print(f\"The accuracy of the decision is {round(accuracy,4)}\")"
   ],
   "outputs": [
    {
     "output_type": "stream",
     "name": "stdout",
     "text": [
      "The accuracy of the decision is 0.7778\n"
     ]
    }
   ],
   "metadata": {}
  },
  {
   "cell_type": "code",
   "execution_count": 372,
   "source": [
    "# Check the treshold alternatives:\n",
    "\n",
    "from sklearn.metrics import accuracy_score\n",
    "thresholds = np.linspace(0, 1, 11) #A\n",
    "results = {}\n",
    "for t in thresholds: #B \n",
    "    dec = y_pred >= t #C \n",
    "    acc = accuracy_score(y_val, dec) #C \n",
    "    results[t] = acc\n",
    "    print(f\"The accuracy for treshold={round(t,2)} is: {round(acc, 4)}\")\n",
    "\n",
    "best = sorted(results.items(), key=lambda x: x[1], reverse=True)[0][0]\n",
    "print(f\"The threshold with the highest accuracy is: {best}\")\n",
    "\n"
   ],
   "outputs": [
    {
     "output_type": "stream",
     "name": "stdout",
     "text": [
      "The accuracy for treshold=0.0 is: 0.2761\n",
      "The accuracy for treshold=0.1 is: 0.4882\n",
      "The accuracy for treshold=0.2 is: 0.6543\n",
      "The accuracy for treshold=0.3 is: 0.7407\n",
      "The accuracy for treshold=0.4 is: 0.7688\n",
      "The accuracy for treshold=0.5 is: 0.7778\n",
      "The accuracy for treshold=0.6 is: 0.7688\n",
      "The accuracy for treshold=0.7 is: 0.7553\n",
      "The accuracy for treshold=0.8 is: 0.7419\n",
      "The accuracy for treshold=0.9 is: 0.7284\n",
      "The accuracy for treshold=1.0 is: 0.7239\n",
      "The threshold with the highest accuracy is: 0.5\n"
     ]
    }
   ],
   "metadata": {}
  },
  {
   "cell_type": "markdown",
   "source": [
    "## Question 2\n",
    "\n",
    "What's the AUC of this model on the validation dataset? (round to 3 digits)\n",
    "\n",
    "- 0.512\n",
    "- 0.612\n",
    "- 0.712\n",
    "- 0.812"
   ],
   "metadata": {}
  },
  {
   "cell_type": "code",
   "execution_count": 373,
   "source": [
    "from sklearn.metrics import roc_auc_score"
   ],
   "outputs": [],
   "metadata": {}
  },
  {
   "cell_type": "code",
   "execution_count": 374,
   "source": [
    "round(roc_auc_score(y_val, y_pred), 3)"
   ],
   "outputs": [
    {
     "output_type": "execute_result",
     "data": {
      "text/plain": [
       "0.811"
      ]
     },
     "metadata": {},
     "execution_count": 374
    }
   ],
   "metadata": {}
  },
  {
   "cell_type": "markdown",
   "source": [
    "## Question 3\n",
    "\n",
    "Now let's compute precision and recall for our model.\n",
    "\n",
    "* Evaluate the model on all thresholds from 0.0 to 1.0 with step 0.01\n",
    "* For each threshold, compute precision and recall\n",
    "* Plot them"
   ],
   "metadata": {}
  },
  {
   "cell_type": "code",
   "execution_count": 398,
   "source": [
    "scores = []\n",
    "\n",
    "thresholds = np.linspace(0.0, 1.0, 101)\n",
    "\n",
    "intersection = 0\n",
    "\n",
    "for t in thresholds:\n",
    "    actual_positive = (y_val == 1)\n",
    "    actual_negative = (y_val == 0)\n",
    "    \n",
    "    predict_positive = (y_pred >= t)\n",
    "    predict_negative = (y_pred < t)\n",
    "\n",
    "    tp = (predict_positive & actual_positive).sum()\n",
    "    tn = (predict_negative & actual_negative).sum()\n",
    "    fp = (predict_positive & actual_negative).sum()\n",
    "    fn = (predict_negative & actual_positive).sum()\n",
    "\n",
    "    p = tp / (tp + fp)\n",
    "    r = tp / (tp + fn)\n",
    "    scores.append((t, p, r))\n"
   ],
   "outputs": [
    {
     "output_type": "stream",
     "name": "stderr",
     "text": [
      "/tmp/ipykernel_15231/327697134.py:19: RuntimeWarning: invalid value encountered in long_scalars\n",
      "  p = tp / (tp + fp)\n"
     ]
    }
   ],
   "metadata": {}
  },
  {
   "cell_type": "code",
   "execution_count": 376,
   "source": [
    "columns = ['threshold', 'Precision', 'Recall']\n",
    "df_scores = pd.DataFrame(scores, columns=columns)\n",
    "\n",
    "plt.plot(df_scores.threshold, df_scores['Precision'], label='Precision')\n",
    "plt.plot(df_scores.threshold, df_scores['Recall'], label='Recall')\n",
    "plt.legend()\n",
    "plt.xlabel('Threshold')\n",
    "plt.ylabel('Values')"
   ],
   "outputs": [
    {
     "output_type": "execute_result",
     "data": {
      "text/plain": [
       "Text(0, 0.5, 'Values')"
      ]
     },
     "metadata": {},
     "execution_count": 376
    },
    {
     "output_type": "display_data",
     "data": {
      "image/png": "[encoded data removed]",
      "text/plain": [
       "<Figure size 432x288 with 1 Axes>"
      ]
     },
     "metadata": {
      "needs_background": "light"
     }
    }
   ],
   "metadata": {}
  },
  {
   "cell_type": "markdown",
   "source": [
    "At which threshold precision and recall curves intersect?\n",
    "\n",
    "* 0.2\n",
    "* 0.4\n",
    "* 0.6\n",
    "* 0.8"
   ],
   "metadata": {}
  },
  {
   "cell_type": "markdown",
   "source": [
    "## Question 4\n",
    "\n",
    "Precision and recall are conflicting - when one grows, the other goes down. That's why they are often combined into the F1 score - a metrics that takes into account both\n",
    "\n",
    "This is the formula for computing F1:\n",
    "\n",
    "$$F_1 = 2 \\cdot \\cfrac{P \\cdot R}{P + R}$$\n",
    "\n",
    "Where $P$ is precision and $R$ is recall.\n",
    "\n",
    "Let's compute F1 for all thresholds from 0.0 to 1.0 with increment 0.01"
   ],
   "metadata": {}
  },
  {
   "cell_type": "code",
   "execution_count": 377,
   "source": [
    "f1_scores = []\n",
    "\n",
    "thresholds = np.linspace(0.0, 1.0, 101)\n",
    "\n",
    "for t in thresholds:\n",
    "    actual_positive = (y_val == 1)\n",
    "    actual_negative = (y_val == 0)\n",
    "\n",
    "    predict_positive = (y_pred >= t)\n",
    "    predict_negative = (y_pred < t)\n",
    "\n",
    "    tp = (predict_positive & actual_positive).sum()\n",
    "    tn = (predict_negative & actual_negative).sum()\n",
    "    fp = (predict_positive & actual_negative).sum()\n",
    "    fn = (predict_negative & actual_positive).sum()\n",
    "\n",
    "    p = tp / (tp + fp)\n",
    "    r = tp / (tp + fn)\n",
    "    f1 = 2 * (p * r) / (p + r)   \n",
    "    f1_scores.append((t, f1))"
   ],
   "outputs": [
    {
     "output_type": "stream",
     "name": "stderr",
     "text": [
      "/tmp/ipykernel_15231/1561722048.py:17: RuntimeWarning: invalid value encountered in long_scalars\n",
      "  p = tp / (tp + fp)\n"
     ]
    }
   ],
   "metadata": {}
  },
  {
   "cell_type": "code",
   "execution_count": 378,
   "source": [
    "columns = ['threshold', 'F1_Score']\n",
    "df_f1_scores = pd.DataFrame(f1_scores, columns=columns)\n",
    "\n",
    "plt.plot(df_f1_scores.threshold, df_f1_scores.F1_Score, label='F1_Score')\n",
    "plt.legend()"
   ],
   "outputs": [
    {
     "output_type": "execute_result",
     "data": {
      "text/plain": [
       "<matplotlib.legend.Legend at 0x7f2c2c6bd370>"
      ]
     },
     "metadata": {},
     "execution_count": 378
    },
    {
     "output_type": "display_data",
     "data": {
      "image/png": "[encoded data removed]",
      "text/plain": [
       "<Figure size 432x288 with 1 Axes>"
      ]
     },
     "metadata": {
      "needs_background": "light"
     }
    }
   ],
   "metadata": {}
  },
  {
   "cell_type": "markdown",
   "source": [
    "At which threshold F1 is maximal?\n",
    "\n",
    "- 0.1\n",
    "- 0.3\n",
    "- 0.5\n",
    "- 0.7"
   ],
   "metadata": {}
  },
  {
   "cell_type": "markdown",
   "source": [
    "## Question 5\n",
    "\n",
    "\n",
    "Use the `KFold` class from Scikit-Learn to evaluate our model on 5 different folds:\n",
    "\n",
    "```\n",
    "KFold(n_splits=5, shuffle=True, random_state=1)\n",
    "```\n",
    "\n",
    "* Iterate over different folds of `df_full_train`\n",
    "* Split the data into train and validation\n",
    "* Train the model on train with these parameters: `LogisticRegression(solver='liblinear', C=1.0, max_iter=1000)`\n",
    "* Use AUC to evaluate the model on validation\n"
   ],
   "metadata": {}
  },
  {
   "cell_type": "code",
   "execution_count": 379,
   "source": [
    "def train(df_train, y_train, C=1.0):\n",
    "    dicts = df_train[selected].to_dict(orient='records')\n",
    "\n",
    "    dv = DictVectorizer(sparse=False)\n",
    "    X_train = dv.fit_transform(dicts)\n",
    "\n",
    "    model = LogisticRegression(solver='liblinear',C=C, max_iter=1000)\n",
    "    model.fit(X_train, y_train)\n",
    "    \n",
    "    return dv, model"
   ],
   "outputs": [],
   "metadata": {}
  },
  {
   "cell_type": "code",
   "execution_count": 380,
   "source": [
    "def predict(df, dv, model):\n",
    "    dicts = df.to_dict(orient='records')\n",
    "\n",
    "    X = dv.transform(dicts)\n",
    "    y_pred = model.predict_proba(X)[:, 1]\n",
    "\n",
    "    return y_pred"
   ],
   "outputs": [],
   "metadata": {}
  },
  {
   "cell_type": "code",
   "execution_count": 381,
   "source": [
    "from sklearn.model_selection import KFold\n",
    "\n",
    "from tqdm.auto import tqdm"
   ],
   "outputs": [],
   "metadata": {}
  },
  {
   "cell_type": "code",
   "execution_count": 382,
   "source": [
    "kfold = KFold(n_splits=5, shuffle=True, random_state=1)\n"
   ],
   "outputs": [],
   "metadata": {}
  },
  {
   "cell_type": "code",
   "execution_count": 401,
   "source": [
    "kfold_scores = []\n",
    "\n",
    "for train_idx, val_idx in kfold.split(df_temporary_train):\n",
    "    df_train = df_temporary_train.iloc[train_idx]\n",
    "    df_val = df_temporary_train.iloc[val_idx]\n",
    "\n",
    "    y_train =df_train.default.values\n",
    "    y_val = df_val.default.values\n",
    "\n",
    "    dv, model = train(df_train, y_train, C=1.0)\n",
    "    y_pred = predict(df_val, dv, model)\n",
    "\n",
    "    auc = roc_auc_score(y_val, y_pred)\n",
    "    print(\"{:.5f}\".format(auc))\n",
    "    kfold_scores.append(auc)\n",
    "\n",
    "print(f'{np.mean(scores):.4f} +- {np.std(scores):.4f}')"
   ],
   "outputs": [
    {
     "output_type": "stream",
     "name": "stdout",
     "text": [
      "0.82562\n",
      "0.82541\n",
      "0.78934\n",
      "0.82501\n",
      "0.80547\n",
      "nan +- nan\n"
     ]
    }
   ],
   "metadata": {}
  },
  {
   "cell_type": "code",
   "execution_count": 399,
   "source": [
    "round(np.std(scores),3)"
   ],
   "outputs": [
    {
     "output_type": "execute_result",
     "data": {
      "text/plain": [
       "nan"
      ]
     },
     "metadata": {},
     "execution_count": 399
    }
   ],
   "metadata": {}
  },
  {
   "cell_type": "markdown",
   "source": [
    "How large is standard devidation of the scores across different folds?\n",
    "\n",
    "- 0.001\n",
    "- 0.014\n",
    "- 0.09\n",
    "- 0.14"
   ],
   "metadata": {}
  },
  {
   "cell_type": "markdown",
   "source": [
    "## Question 6\n",
    "\n",
    "Now let's use 5-Fold cross-validation to find the best parameter C\n",
    "\n",
    "* Iterate over the following C values: `[0.01, 0.1, 1, 10]`\n",
    "* Use these parametes for the model: `LogisticRegression(solver='liblinear', C=C, max_iter=1000)`\n",
    "* Compute the mean score as well as the std"
   ],
   "metadata": {}
  },
  {
   "cell_type": "code",
   "execution_count": 385,
   "source": [
    "n_splits = 5\n",
    "\n",
    "for C in tqdm([0.01, 0.1, 1, 10]):\n",
    "    kfold = KFold(n_splits=n_splits, shuffle=True, random_state=1)\n",
    "    scores = []\n",
    "    for train_idx, val_idx in kfold.split(df_temporary_train):\n",
    "        df_train = df_temporary_train.iloc[train_idx]\n",
    "        df_val = df_temporary_train.iloc[val_idx]\n",
    "\n",
    "        y_train =df_train.default.values\n",
    "        y_val = df_val.default.values\n",
    "\n",
    "        dv, model = train(df_train, y_train, C)\n",
    "        y_pred = predict(df_val, dv, model)\n",
    "\n",
    "        auc = roc_auc_score(y_val, y_pred)\n",
    "        scores.append(auc)\n",
    "\n",
    "    print('C=%s %.3f +- %.3f' % (C, np.mean(scores), np.std(scores)))"
   ],
   "outputs": [
    {
     "output_type": "stream",
     "name": "stderr",
     "text": [
      " 25%|██▌       | 1/4 [00:00<00:01,  2.11it/s]"
     ]
    },
    {
     "output_type": "stream",
     "name": "stdout",
     "text": [
      "C=0.01 0.809 +- 0.013\n"
     ]
    },
    {
     "output_type": "stream",
     "name": "stderr",
     "text": [
      " 50%|█████     | 2/4 [00:00<00:00,  2.04it/s]"
     ]
    },
    {
     "output_type": "stream",
     "name": "stdout",
     "text": [
      "C=0.1 0.813 +- 0.014\n"
     ]
    },
    {
     "output_type": "stream",
     "name": "stderr",
     "text": [
      " 75%|███████▌  | 3/4 [00:01<00:00,  1.97it/s]"
     ]
    },
    {
     "output_type": "stream",
     "name": "stdout",
     "text": [
      "C=1 0.814 +- 0.015\n"
     ]
    },
    {
     "output_type": "stream",
     "name": "stderr",
     "text": [
      "100%|██████████| 4/4 [00:02<00:00,  1.97it/s]"
     ]
    },
    {
     "output_type": "stream",
     "name": "stdout",
     "text": [
      "C=10 0.812 +- 0.014\n"
     ]
    },
    {
     "output_type": "stream",
     "name": "stderr",
     "text": [
      "\n"
     ]
    }
   ],
   "metadata": {}
  },
  {
   "cell_type": "markdown",
   "source": [
    "Which C leads to the best mean score?\n",
    "\n",
    "- 0.01\n",
    "- 0.1\n",
    "- 1\n",
    "- 10\n",
    "\n",
    "If you have ties, select the score with the lowest std. If you still have ties, select the smallest C"
   ],
   "metadata": {}
  },
  {
   "cell_type": "code",
   "execution_count": null,
   "source": [],
   "outputs": [],
   "metadata": {}
  },
  {
   "cell_type": "markdown",
   "source": [
    "## Submit the results\n",
    "\n",
    "Submit your results here: https://forms.gle/e497sR5iB36mM9Cs5\n",
    "\n",
    "It's possible that your answers won't match exactly. If it's the case, select the closest one.\n",
    "\n",
    "## Deadline\n",
    "\n",
    "The deadline for submitting is 04 October 2021, 17:00 CET. After that, the form will be closed."
   ],
   "metadata": {}
  },
  {
   "cell_type": "code",
   "execution_count": null,
   "source": [],
   "outputs": [],
   "metadata": {}
  }
 ],
 "metadata": {
  "kernelspec": {
   "name": "python3",
   "display_name": "Python 3.8.11 64-bit ('ml-zoomcamp': conda)"
  },
  "language_info": {
   "codemirror_mode": {
    "name": "ipython",
    "version": 3
   },
   "file_extension": ".py",
   "mimetype": "text/x-python",
   "name": "python",
   "nbconvert_exporter": "python",
   "pygments_lexer": "ipython3",
   "version": "3.8.11"
  },
  "interpreter": {
   "hash": "034d71b4374958fb3174e01f7896f6db5ad3b7629d053e5c1ae6901e2ccfe010"
  }
 },
 "nbformat": 4,
 "nbformat_minor": 2
}