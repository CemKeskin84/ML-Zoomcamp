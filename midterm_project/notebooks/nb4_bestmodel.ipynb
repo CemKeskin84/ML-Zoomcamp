{
 "cells": [
  {
   "cell_type": "code",
   "execution_count": 1,
   "metadata": {},
   "outputs": [],
   "source": [
    "import pandas as pd\n",
    "import numpy as np\n",
    "\n",
    "from sklearn import multioutput\n",
    "from sklearn.model_selection import train_test_split\n",
    "from sklearn.feature_extraction import DictVectorizer\n",
    "from sklearn.metrics import mean_squared_error, r2_score\n",
    "from xgboost import XGBRegressor\n",
    "import pickle"
   ]
  },
  {
   "cell_type": "code",
   "execution_count": 2,
   "metadata": {},
   "outputs": [],
   "source": [
    "raw_data = pd.read_csv('../data/ENB2012_data.csv')\n",
    "\n",
    "df = raw_data.copy()  # keep the raw data as original\n",
    "\n",
    "# Seperate the features and the target variables\n",
    "X = df.iloc[:,0:-2]\n",
    "y = np.log(df[['heating', 'cooling']])"
   ]
  },
  {
   "cell_type": "markdown",
   "metadata": {},
   "source": [
    "## Data Preperation"
   ]
  },
  {
   "cell_type": "code",
   "execution_count": 3,
   "metadata": {},
   "outputs": [],
   "source": [
    "# Devide them to training, validation and test parts (60:20:20): \n",
    "X_train_full_df, X_test_df, y_train_full_df, y_test = train_test_split(X, y, test_size = 0.20, random_state = 155)\n",
    "X_train_df, X_val_df, y_train, y_val = train_test_split(X_train_full_df, y_train_full_df, test_size = 0.25, random_state = 155)\n",
    "\n",
    "# Vectorize feature matrices in the form of dictionary (with renewed indexes):\n",
    "dv = DictVectorizer(sparse=False)\n",
    "\n",
    "X_train_df = X_train_df.reset_index(drop=True)\n",
    "X_train_dict = X_train_df.to_dict(orient='records')\n",
    "X_train = dv.fit_transform(X_train_dict)\n",
    "\n",
    "X_val_df = X_val_df.reset_index(drop=True)\n",
    "X_val_dict = X_val_df.to_dict(orient='records')\n",
    "X_val = dv.fit_transform(X_val_dict)\n",
    "\n",
    "X_test_df = X_test_df.reset_index(drop=True)\n",
    "X_test_dict = X_test_df.to_dict(orient='records')\n",
    "X_test = dv.fit_transform(X_test_dict)\n",
    "\n",
    "# Renew the index of target variables\n",
    "y_train = y_train.reset_index(drop=True)\n",
    "y_val = y_val.reset_index(drop=True)\n",
    "y_test = y_test.reset_index(drop=True)\n"
   ]
  },
  {
   "cell_type": "markdown",
   "metadata": {},
   "source": [
    "## XGboost Regression"
   ]
  },
  {
   "cell_type": "code",
   "execution_count": 4,
   "metadata": {},
   "outputs": [
    {
     "name": "stdout",
     "output_type": "stream",
     "text": [
      "r2 score: 0.996   RMSE: 0.025\n"
     ]
    }
   ],
   "source": [
    "xgb = XGBRegressor(n_estimators=500, max_depth=5, learning_rate=0.2)\n",
    "mxgb = multioutput.MultiOutputRegressor(xgb)\n",
    "mxgb.fit(X_train, y_train)\n",
    "y_pred = mxgb.predict(X_val)\n",
    "\n",
    "r2 = np.mean(r2_score(y_val, y_pred))\n",
    "rmse= np.sqrt(mean_squared_error(y_val,y_pred))\n",
    "print(f\"r2 score: {r2.round(3)}   RMSE: {rmse.round(3)}\")"
   ]
  },
  {
   "cell_type": "markdown",
   "metadata": {},
   "source": [
    "## Saving the Model"
   ]
  },
  {
   "cell_type": "code",
   "execution_count": 5,
   "metadata": {},
   "outputs": [],
   "source": [
    "output_file = 'model.bin'"
   ]
  },
  {
   "cell_type": "code",
   "execution_count": 6,
   "metadata": {},
   "outputs": [],
   "source": [
    "with open(output_file, 'wb') as f_out:\n",
    "    pickle.dump((dv, mxgb), f_out)"
   ]
  },
  {
   "cell_type": "markdown",
   "metadata": {},
   "source": [
    "## Load Model"
   ]
  },
  {
   "cell_type": "code",
   "execution_count": 7,
   "metadata": {},
   "outputs": [],
   "source": [
    "import pickle\n"
   ]
  },
  {
   "cell_type": "code",
   "execution_count": 8,
   "metadata": {},
   "outputs": [],
   "source": [
    "model_file = 'model.bin'"
   ]
  },
  {
   "cell_type": "code",
   "execution_count": 9,
   "metadata": {},
   "outputs": [],
   "source": [
    "with open(model_file, 'rb') as f_in:\n",
    "    dv, model = pickle.load(f_in)"
   ]
  },
  {
   "cell_type": "code",
   "execution_count": 11,
   "metadata": {},
   "outputs": [],
   "source": [
    "# test_building = X_train_df.iloc[384]\n",
    "\n",
    "building = {'compactness': 0.9,\n",
    "        'surface_area': 563.5,\n",
    "        'wall_area': 318.5,\n",
    "        'roof_area': 122.5,\n",
    "        'height': 7.0,\n",
    "        'orientation': 5.0,\n",
    "        'glazing_area': 0.4,\n",
    "        'glazing_distribution': 4.0}"
   ]
  },
  {
   "cell_type": "code",
   "execution_count": 12,
   "metadata": {},
   "outputs": [],
   "source": [
    "X = dv.transform([building])"
   ]
  },
  {
   "cell_type": "code",
   "execution_count": 13,
   "metadata": {},
   "outputs": [
    {
     "data": {
      "text/plain": [
       "array([[3.5898054, 3.5801654]], dtype=float32)"
      ]
     },
     "execution_count": 13,
     "metadata": {},
     "output_type": "execute_result"
    }
   ],
   "source": [
    "y_pred = model.predict(X)"
   ]
  },
  {
   "cell_type": "code",
   "execution_count": 19,
   "metadata": {},
   "outputs": [
    {
     "name": "stdout",
     "output_type": "stream",
     "text": [
      "Estimated heating load: 12.2\n",
      "Estimated cooling load: 14.59\n"
     ]
    }
   ],
   "source": [
    "print(\"Estimated heating load:\", round(np.exp(y_pred[0,0]),2))\n",
    "print(\"Estimated cooling load:\", round(np.exp(y_pred[0,1]),2))"
   ]
  }
 ],
 "metadata": {
  "interpreter": {
   "hash": "f5f7483d825ec8916a49b5a43b4dad91169a17003e9451f48c72d77bd99561f0"
  },
  "kernelspec": {
   "display_name": "Python 3.9.5 64-bit ('projectV3-eirq330h': pipenv)",
   "name": "python3"
  },
  "language_info": {
   "codemirror_mode": {
    "name": "ipython",
    "version": 3
   },
   "file_extension": ".py",
   "mimetype": "text/x-python",
   "name": "python",
   "nbconvert_exporter": "python",
   "pygments_lexer": "ipython3",
   "version": "3.9.5"
  },
  "orig_nbformat": 4
 },
 "nbformat": 4,
 "nbformat_minor": 2
}
