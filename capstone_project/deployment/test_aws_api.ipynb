{
 "cells": [
  {
   "cell_type": "code",
   "execution_count": 1,
   "metadata": {},
   "outputs": [],
   "source": [
    "import requests\n",
    "\n",
    "url = 'https://2cvpuodomb.execute-api.eu-central-1.amazonaws.com/test/predict'\n"
   ]
  },
  {
   "cell_type": "code",
   "execution_count": 4,
   "metadata": {},
   "outputs": [],
   "source": [
    "\n",
    "## test image without mask \n",
    "#data = {'url': 'https://raw.githubusercontent.com/CemKeskin84/ML-Zoomcamp/main/capstone_project/sample_images/sample_without_mask.jpg'}\n",
    "\n",
    "\n",
    "## test image without mask \n",
    "data = {'url': 'https://raw.githubusercontent.com/CemKeskin84/ML-Zoomcamp/main/capstone_project/sample_images/sample_with_mask.jpg'}\n",
    "\n"
   ]
  },
  {
   "cell_type": "code",
   "execution_count": 5,
   "metadata": {},
   "outputs": [
    {
     "name": "stdout",
     "output_type": "stream",
     "text": [
      "{'Mask(0=with & 1=without)': 0.0}\n"
     ]
    }
   ],
   "source": [
    "\n",
    "result = requests.post(url, json=data).json()\n",
    "print(result)"
   ]
  },
  {
   "cell_type": "markdown",
   "metadata": {},
   "source": [
    "### NOTE\n",
    "The result should be very close to \"0\" if the image doesn't involve mask\n",
    "and to \"1\" if so.\n",
    "\n",
    "The API can be testes with any image that has a valid URL. To try, just modify second cell"
   ]
  }
 ],
 "metadata": {
  "interpreter": {
   "hash": "ce35b33a5d1eccab027ef20665225a9e2356ab56aa8afdb28517a0ff15ffed98"
  },
  "kernelspec": {
   "display_name": "Python 3.8.0 64-bit ('env1': conda)",
   "language": "python",
   "name": "python3"
  },
  "language_info": {
   "codemirror_mode": {
    "name": "ipython",
    "version": 3
   },
   "file_extension": ".py",
   "mimetype": "text/x-python",
   "name": "python",
   "nbconvert_exporter": "python",
   "pygments_lexer": "ipython3",
   "version": "3.9.5"
  },
  "orig_nbformat": 4
 },
 "nbformat": 4,
 "nbformat_minor": 2
}
