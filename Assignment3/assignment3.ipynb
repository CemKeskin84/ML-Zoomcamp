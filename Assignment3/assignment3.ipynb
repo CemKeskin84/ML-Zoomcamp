{
 "cells": [
  {
   "cell_type": "markdown",
   "source": [
    "The link for the original Assignment3 document om ML_Zoomcamp by Alexey Grigorev of [Data Talks Club](https://datatalks.club/) is [here](https://github.com/alexeygrigorev/mlbookcamp-code/blob/master/course-zoomcamp/03-classification/homework.md).\n",
    "\n",
    "The link for the dataset used in the assignment is [here](https://www.kaggle.com/dgomonov/new-york-city-airbnb-open-data)."
   ],
   "metadata": {}
  },
  {
   "cell_type": "markdown",
   "source": [
    "---\n",
    "---"
   ],
   "metadata": {}
  },
  {
   "cell_type": "markdown",
   "source": [
    "# Initialization & Overview"
   ],
   "metadata": {}
  },
  {
   "cell_type": "code",
   "execution_count": 179,
   "source": [
    "import pandas as pd\n",
    "import numpy as np\n",
    "import seaborn as sns\n",
    "from matplotlib import pyplot as pyplot\n",
    "\n",
    "from sklearn.model_selection import train_test_split\n",
    "from sklearn.metrics import mutual_info_score\n",
    "from sklearn.feature_extraction import DictVectorizer\n",
    "from sklearn.linear_model import LogisticRegression\n",
    "\n",
    "%matplotlib inline"
   ],
   "outputs": [],
   "metadata": {}
  },
  {
   "cell_type": "markdown",
   "source": [
    "### Select desired columns and fill in the missing values with 0."
   ],
   "metadata": {}
  },
  {
   "cell_type": "code",
   "execution_count": 150,
   "source": [
    "df = pd.read_csv('AB_NYC_2019.csv')\n",
    "\n",
    "selection = ['latitude', 'longitude', 'price', 'minimum_nights', 'number_of_reviews', \n",
    "            'reviews_per_month', 'calculated_host_listings_count', \n",
    "            'availability_365','neighbourhood_group', 'room_type']\n",
    "\n",
    "df = df[selection].fillna(0)"
   ],
   "outputs": [],
   "metadata": {}
  },
  {
   "cell_type": "code",
   "execution_count": 151,
   "source": [
    "df.info()"
   ],
   "outputs": [
    {
     "output_type": "stream",
     "name": "stdout",
     "text": [
      "<class 'pandas.core.frame.DataFrame'>\n",
      "RangeIndex: 48895 entries, 0 to 48894\n",
      "Data columns (total 10 columns):\n",
      " #   Column                          Non-Null Count  Dtype  \n",
      "---  ------                          --------------  -----  \n",
      " 0   latitude                        48895 non-null  float64\n",
      " 1   longitude                       48895 non-null  float64\n",
      " 2   price                           48895 non-null  int64  \n",
      " 3   minimum_nights                  48895 non-null  int64  \n",
      " 4   number_of_reviews               48895 non-null  int64  \n",
      " 5   reviews_per_month               48895 non-null  float64\n",
      " 6   calculated_host_listings_count  48895 non-null  int64  \n",
      " 7   availability_365                48895 non-null  int64  \n",
      " 8   neighbourhood_group             48895 non-null  object \n",
      " 9   room_type                       48895 non-null  object \n",
      "dtypes: float64(3), int64(5), object(2)\n",
      "memory usage: 3.7+ MB\n"
     ]
    }
   ],
   "metadata": {}
  },
  {
   "cell_type": "code",
   "execution_count": 152,
   "source": [
    "df.describe().round(2)"
   ],
   "outputs": [
    {
     "output_type": "execute_result",
     "data": {
      "text/html": [
       "<div>\n",
       "<style scoped>\n",
       "    .dataframe tbody tr th:only-of-type {\n",
       "        vertical-align: middle;\n",
       "    }\n",
       "\n",
       "    .dataframe tbody tr th {\n",
       "        vertical-align: top;\n",
       "    }\n",
       "\n",
       "    .dataframe thead th {\n",
       "        text-align: right;\n",
       "    }\n",
       "</style>\n",
       "<table border=\"1\" class=\"dataframe\">\n",
       "  <thead>\n",
       "    <tr style=\"text-align: right;\">\n",
       "      <th></th>\n",
       "      <th>latitude</th>\n",
       "      <th>longitude</th>\n",
       "      <th>price</th>\n",
       "      <th>minimum_nights</th>\n",
       "      <th>number_of_reviews</th>\n",
       "      <th>reviews_per_month</th>\n",
       "      <th>calculated_host_listings_count</th>\n",
       "      <th>availability_365</th>\n",
       "    </tr>\n",
       "  </thead>\n",
       "  <tbody>\n",
       "    <tr>\n",
       "      <th>count</th>\n",
       "      <td>48895.00</td>\n",
       "      <td>48895.00</td>\n",
       "      <td>48895.00</td>\n",
       "      <td>48895.00</td>\n",
       "      <td>48895.00</td>\n",
       "      <td>48895.00</td>\n",
       "      <td>48895.00</td>\n",
       "      <td>48895.00</td>\n",
       "    </tr>\n",
       "    <tr>\n",
       "      <th>mean</th>\n",
       "      <td>40.73</td>\n",
       "      <td>-73.95</td>\n",
       "      <td>152.72</td>\n",
       "      <td>7.03</td>\n",
       "      <td>23.27</td>\n",
       "      <td>1.09</td>\n",
       "      <td>7.14</td>\n",
       "      <td>112.78</td>\n",
       "    </tr>\n",
       "    <tr>\n",
       "      <th>std</th>\n",
       "      <td>0.05</td>\n",
       "      <td>0.05</td>\n",
       "      <td>240.15</td>\n",
       "      <td>20.51</td>\n",
       "      <td>44.55</td>\n",
       "      <td>1.60</td>\n",
       "      <td>32.95</td>\n",
       "      <td>131.62</td>\n",
       "    </tr>\n",
       "    <tr>\n",
       "      <th>min</th>\n",
       "      <td>40.50</td>\n",
       "      <td>-74.24</td>\n",
       "      <td>0.00</td>\n",
       "      <td>1.00</td>\n",
       "      <td>0.00</td>\n",
       "      <td>0.00</td>\n",
       "      <td>1.00</td>\n",
       "      <td>0.00</td>\n",
       "    </tr>\n",
       "    <tr>\n",
       "      <th>25%</th>\n",
       "      <td>40.69</td>\n",
       "      <td>-73.98</td>\n",
       "      <td>69.00</td>\n",
       "      <td>1.00</td>\n",
       "      <td>1.00</td>\n",
       "      <td>0.04</td>\n",
       "      <td>1.00</td>\n",
       "      <td>0.00</td>\n",
       "    </tr>\n",
       "    <tr>\n",
       "      <th>50%</th>\n",
       "      <td>40.72</td>\n",
       "      <td>-73.96</td>\n",
       "      <td>106.00</td>\n",
       "      <td>3.00</td>\n",
       "      <td>5.00</td>\n",
       "      <td>0.37</td>\n",
       "      <td>1.00</td>\n",
       "      <td>45.00</td>\n",
       "    </tr>\n",
       "    <tr>\n",
       "      <th>75%</th>\n",
       "      <td>40.76</td>\n",
       "      <td>-73.94</td>\n",
       "      <td>175.00</td>\n",
       "      <td>5.00</td>\n",
       "      <td>24.00</td>\n",
       "      <td>1.58</td>\n",
       "      <td>2.00</td>\n",
       "      <td>227.00</td>\n",
       "    </tr>\n",
       "    <tr>\n",
       "      <th>max</th>\n",
       "      <td>40.91</td>\n",
       "      <td>-73.71</td>\n",
       "      <td>10000.00</td>\n",
       "      <td>1250.00</td>\n",
       "      <td>629.00</td>\n",
       "      <td>58.50</td>\n",
       "      <td>327.00</td>\n",
       "      <td>365.00</td>\n",
       "    </tr>\n",
       "  </tbody>\n",
       "</table>\n",
       "</div>"
      ],
      "text/plain": [
       "       latitude  longitude     price  minimum_nights  number_of_reviews  \\\n",
       "count  48895.00   48895.00  48895.00        48895.00           48895.00   \n",
       "mean      40.73     -73.95    152.72            7.03              23.27   \n",
       "std        0.05       0.05    240.15           20.51              44.55   \n",
       "min       40.50     -74.24      0.00            1.00               0.00   \n",
       "25%       40.69     -73.98     69.00            1.00               1.00   \n",
       "50%       40.72     -73.96    106.00            3.00               5.00   \n",
       "75%       40.76     -73.94    175.00            5.00              24.00   \n",
       "max       40.91     -73.71  10000.00         1250.00             629.00   \n",
       "\n",
       "       reviews_per_month  calculated_host_listings_count  availability_365  \n",
       "count           48895.00                        48895.00          48895.00  \n",
       "mean                1.09                            7.14            112.78  \n",
       "std                 1.60                           32.95            131.62  \n",
       "min                 0.00                            1.00              0.00  \n",
       "25%                 0.04                            1.00              0.00  \n",
       "50%                 0.37                            1.00             45.00  \n",
       "75%                 1.58                            2.00            227.00  \n",
       "max                58.50                          327.00            365.00  "
      ]
     },
     "metadata": {},
     "execution_count": 152
    }
   ],
   "metadata": {}
  },
  {
   "cell_type": "code",
   "execution_count": 153,
   "source": [
    "def quick_look(mydf, m=5):\n",
    "    print(f\"It is in type of {type(mydf)} and shape of {mydf.shape}\")\n",
    "    for col in df.columns:\n",
    "        print(str(col).upper(), \n",
    "            f\"column has {mydf[col].nunique()} unique values (in {mydf[col].dtypes} format) and {mydf[col].isnull().sum()} NaNs\")\n",
    "        print(mydf[col].unique()[:m], \"\\n\")\n",
    "\n",
    "quick_look(df, 5)"
   ],
   "outputs": [
    {
     "output_type": "stream",
     "name": "stdout",
     "text": [
      "It is in type of <class 'pandas.core.frame.DataFrame'> and shape of (48895, 10)\n",
      "LATITUDE column has 19048 unique values (in float64 format) and 0 NaNs\n",
      "[40.64749 40.75362 40.80902 40.68514 40.79851] \n",
      "\n",
      "LONGITUDE column has 14718 unique values (in float64 format) and 0 NaNs\n",
      "[-73.97237 -73.98377 -73.9419  -73.95976 -73.94399] \n",
      "\n",
      "PRICE column has 674 unique values (in int64 format) and 0 NaNs\n",
      "[149 225 150  89  80] \n",
      "\n",
      "MINIMUM_NIGHTS column has 109 unique values (in int64 format) and 0 NaNs\n",
      "[ 1  3 10 45  2] \n",
      "\n",
      "NUMBER_OF_REVIEWS column has 394 unique values (in int64 format) and 0 NaNs\n",
      "[  9  45   0 270  74] \n",
      "\n",
      "REVIEWS_PER_MONTH column has 938 unique values (in float64 format) and 0 NaNs\n",
      "[0.21 0.38 0.   4.64 0.1 ] \n",
      "\n",
      "CALCULATED_HOST_LISTINGS_COUNT column has 47 unique values (in int64 format) and 0 NaNs\n",
      "[6 2 1 4 3] \n",
      "\n",
      "AVAILABILITY_365 column has 366 unique values (in int64 format) and 0 NaNs\n",
      "[365 355 194   0 129] \n",
      "\n",
      "NEIGHBOURHOOD_GROUP column has 5 unique values (in object format) and 0 NaNs\n",
      "['Brooklyn' 'Manhattan' 'Queens' 'Staten Island' 'Bronx'] \n",
      "\n",
      "ROOM_TYPE column has 3 unique values (in object format) and 0 NaNs\n",
      "['Private room' 'Entire home/apt' 'Shared room'] \n",
      "\n"
     ]
    }
   ],
   "metadata": {}
  },
  {
   "cell_type": "markdown",
   "source": [],
   "metadata": {}
  },
  {
   "cell_type": "markdown",
   "source": [
    "# Q1 \n",
    "## What is the most frequent observation (mode) for the column 'neighbourhood_group'?"
   ],
   "metadata": {}
  },
  {
   "cell_type": "code",
   "execution_count": 253,
   "source": [
    "df['neighbourhood_group'].value_counts().index[0]"
   ],
   "outputs": [
    {
     "output_type": "execute_result",
     "data": {
      "text/plain": [
       "'Manhattan'"
      ]
     },
     "metadata": {},
     "execution_count": 253
    }
   ],
   "metadata": {}
  },
  {
   "cell_type": "markdown",
   "source": [
    "---\n",
    "---\n",
    "### Split the data\n",
    "+ Split your data in train/val/test sets, with 60%/20%/20% distribution.\n",
    "+ Use Scikit-Learn for that (the train_test_split function) and set the seed to 42.\n",
    "+ Make sure that the target value ('price') is not in your dataframe."
   ],
   "metadata": {}
  },
  {
   "cell_type": "code",
   "execution_count": 155,
   "source": [
    "df_temporary_train, df_test = train_test_split(df, test_size=0.2, random_state=42)\n",
    "df_train, df_val = train_test_split(df_temporary_train, test_size=0.25, random_state=42)"
   ],
   "outputs": [],
   "metadata": {}
  },
  {
   "cell_type": "code",
   "execution_count": 156,
   "source": [
    "# Check the size of subsets:\n",
    "\n",
    "len(df_train), len(df_val), len(df_test)"
   ],
   "outputs": [
    {
     "output_type": "execute_result",
     "data": {
      "text/plain": [
       "(29337, 9779, 9779)"
      ]
     },
     "metadata": {},
     "execution_count": 156
    }
   ],
   "metadata": {}
  },
  {
   "cell_type": "code",
   "execution_count": 157,
   "source": [
    "df_train = df_train.reset_index(drop=True)\n",
    "df_val = df_val.reset_index(drop=True)\n",
    "df_test = df_test.reset_index(drop=True)"
   ],
   "outputs": [],
   "metadata": {}
  },
  {
   "cell_type": "code",
   "execution_count": 158,
   "source": [
    "price_train = df_train.price.values\n",
    "price_val = df_val.price.values\n",
    "price_test = df_test.price.values\n",
    "\n",
    "del df_train['price']\n",
    "del df_val['price']\n",
    "del df_test['price']"
   ],
   "outputs": [],
   "metadata": {}
  },
  {
   "cell_type": "code",
   "execution_count": 159,
   "source": [
    "df_train.corr()"
   ],
   "outputs": [
    {
     "output_type": "execute_result",
     "data": {
      "text/html": [
       "<div>\n",
       "<style scoped>\n",
       "    .dataframe tbody tr th:only-of-type {\n",
       "        vertical-align: middle;\n",
       "    }\n",
       "\n",
       "    .dataframe tbody tr th {\n",
       "        vertical-align: top;\n",
       "    }\n",
       "\n",
       "    .dataframe thead th {\n",
       "        text-align: right;\n",
       "    }\n",
       "</style>\n",
       "<table border=\"1\" class=\"dataframe\">\n",
       "  <thead>\n",
       "    <tr style=\"text-align: right;\">\n",
       "      <th></th>\n",
       "      <th>latitude</th>\n",
       "      <th>longitude</th>\n",
       "      <th>minimum_nights</th>\n",
       "      <th>number_of_reviews</th>\n",
       "      <th>reviews_per_month</th>\n",
       "      <th>calculated_host_listings_count</th>\n",
       "      <th>availability_365</th>\n",
       "    </tr>\n",
       "  </thead>\n",
       "  <tbody>\n",
       "    <tr>\n",
       "      <th>latitude</th>\n",
       "      <td>1.000000</td>\n",
       "      <td>0.080301</td>\n",
       "      <td>0.027441</td>\n",
       "      <td>-0.006246</td>\n",
       "      <td>-0.007159</td>\n",
       "      <td>0.019375</td>\n",
       "      <td>-0.005891</td>\n",
       "    </tr>\n",
       "    <tr>\n",
       "      <th>longitude</th>\n",
       "      <td>0.080301</td>\n",
       "      <td>1.000000</td>\n",
       "      <td>-0.060660</td>\n",
       "      <td>0.055084</td>\n",
       "      <td>0.134642</td>\n",
       "      <td>-0.117041</td>\n",
       "      <td>0.083666</td>\n",
       "    </tr>\n",
       "    <tr>\n",
       "      <th>minimum_nights</th>\n",
       "      <td>0.027441</td>\n",
       "      <td>-0.060660</td>\n",
       "      <td>1.000000</td>\n",
       "      <td>-0.076020</td>\n",
       "      <td>-0.120703</td>\n",
       "      <td>0.118647</td>\n",
       "      <td>0.138901</td>\n",
       "    </tr>\n",
       "    <tr>\n",
       "      <th>number_of_reviews</th>\n",
       "      <td>-0.006246</td>\n",
       "      <td>0.055084</td>\n",
       "      <td>-0.076020</td>\n",
       "      <td>1.000000</td>\n",
       "      <td>0.590374</td>\n",
       "      <td>-0.073167</td>\n",
       "      <td>0.174477</td>\n",
       "    </tr>\n",
       "    <tr>\n",
       "      <th>reviews_per_month</th>\n",
       "      <td>-0.007159</td>\n",
       "      <td>0.134642</td>\n",
       "      <td>-0.120703</td>\n",
       "      <td>0.590374</td>\n",
       "      <td>1.000000</td>\n",
       "      <td>-0.048767</td>\n",
       "      <td>0.165376</td>\n",
       "    </tr>\n",
       "    <tr>\n",
       "      <th>calculated_host_listings_count</th>\n",
       "      <td>0.019375</td>\n",
       "      <td>-0.117041</td>\n",
       "      <td>0.118647</td>\n",
       "      <td>-0.073167</td>\n",
       "      <td>-0.048767</td>\n",
       "      <td>1.000000</td>\n",
       "      <td>0.225913</td>\n",
       "    </tr>\n",
       "    <tr>\n",
       "      <th>availability_365</th>\n",
       "      <td>-0.005891</td>\n",
       "      <td>0.083666</td>\n",
       "      <td>0.138901</td>\n",
       "      <td>0.174477</td>\n",
       "      <td>0.165376</td>\n",
       "      <td>0.225913</td>\n",
       "      <td>1.000000</td>\n",
       "    </tr>\n",
       "  </tbody>\n",
       "</table>\n",
       "</div>"
      ],
      "text/plain": [
       "                                latitude  longitude  minimum_nights  \\\n",
       "latitude                        1.000000   0.080301        0.027441   \n",
       "longitude                       0.080301   1.000000       -0.060660   \n",
       "minimum_nights                  0.027441  -0.060660        1.000000   \n",
       "number_of_reviews              -0.006246   0.055084       -0.076020   \n",
       "reviews_per_month              -0.007159   0.134642       -0.120703   \n",
       "calculated_host_listings_count  0.019375  -0.117041        0.118647   \n",
       "availability_365               -0.005891   0.083666        0.138901   \n",
       "\n",
       "                                number_of_reviews  reviews_per_month  \\\n",
       "latitude                                -0.006246          -0.007159   \n",
       "longitude                                0.055084           0.134642   \n",
       "minimum_nights                          -0.076020          -0.120703   \n",
       "number_of_reviews                        1.000000           0.590374   \n",
       "reviews_per_month                        0.590374           1.000000   \n",
       "calculated_host_listings_count          -0.073167          -0.048767   \n",
       "availability_365                         0.174477           0.165376   \n",
       "\n",
       "                                calculated_host_listings_count  \\\n",
       "latitude                                              0.019375   \n",
       "longitude                                            -0.117041   \n",
       "minimum_nights                                        0.118647   \n",
       "number_of_reviews                                    -0.073167   \n",
       "reviews_per_month                                    -0.048767   \n",
       "calculated_host_listings_count                        1.000000   \n",
       "availability_365                                      0.225913   \n",
       "\n",
       "                                availability_365  \n",
       "latitude                               -0.005891  \n",
       "longitude                               0.083666  \n",
       "minimum_nights                          0.138901  \n",
       "number_of_reviews                       0.174477  \n",
       "reviews_per_month                       0.165376  \n",
       "calculated_host_listings_count          0.225913  \n",
       "availability_365                        1.000000  "
      ]
     },
     "metadata": {},
     "execution_count": 159
    }
   ],
   "metadata": {}
  },
  {
   "cell_type": "markdown",
   "source": [
    "# Q2\n",
    "## What are the two features that have the biggest correlation in this dataset?"
   ],
   "metadata": {}
  },
  {
   "cell_type": "code",
   "execution_count": 160,
   "source": [
    "df.corr().unstack().sort_values(ascending=False)[0:20]\n"
   ],
   "outputs": [
    {
     "output_type": "execute_result",
     "data": {
      "text/plain": [
       "latitude                        latitude                          1.000000\n",
       "longitude                       longitude                         1.000000\n",
       "calculated_host_listings_count  calculated_host_listings_count    1.000000\n",
       "reviews_per_month               reviews_per_month                 1.000000\n",
       "number_of_reviews               number_of_reviews                 1.000000\n",
       "minimum_nights                  minimum_nights                    1.000000\n",
       "price                           price                             1.000000\n",
       "availability_365                availability_365                  1.000000\n",
       "reviews_per_month               number_of_reviews                 0.589407\n",
       "number_of_reviews               reviews_per_month                 0.589407\n",
       "availability_365                calculated_host_listings_count    0.225701\n",
       "calculated_host_listings_count  availability_365                  0.225701\n",
       "number_of_reviews               availability_365                  0.172028\n",
       "availability_365                number_of_reviews                 0.172028\n",
       "                                reviews_per_month                 0.163732\n",
       "reviews_per_month               availability_365                  0.163732\n",
       "availability_365                minimum_nights                    0.144303\n",
       "minimum_nights                  availability_365                  0.144303\n",
       "reviews_per_month               longitude                         0.138516\n",
       "longitude                       reviews_per_month                 0.138516\n",
       "dtype: float64"
      ]
     },
     "metadata": {},
     "execution_count": 160
    }
   ],
   "metadata": {}
  },
  {
   "cell_type": "markdown",
   "source": [
    "---\n",
    "---"
   ],
   "metadata": {}
  },
  {
   "cell_type": "markdown",
   "source": [
    "### Make price binary\n",
    "+ We need to turn the price variable from numeric into binary.\n",
    "+ Let's create a variable above_average which is 1 if the price is above (or equal to) 152."
   ],
   "metadata": {}
  },
  {
   "cell_type": "markdown",
   "source": [],
   "metadata": {}
  },
  {
   "cell_type": "code",
   "execution_count": 161,
   "source": [
    "price_train[price_train < 152] = 0\n",
    "price_train[price_train >= 152] = 1\n",
    "\n",
    "price_val[price_val < 152] = 0\n",
    "price_val[price_val >= 152] = 1\n",
    "\n",
    "price_test[price_test < 152] = 0\n",
    "price_test[price_test >= 152] = 1\n"
   ],
   "outputs": [],
   "metadata": {}
  },
  {
   "cell_type": "markdown",
   "source": [
    "# Question 3\n",
    "## Calculate the mutual information score with the (binarized) price for the two categorical variables that we have. Use the training set only.\n",
    "+ Which of these two variables has bigger score?\n",
    "+ Round it to 2 decimal digits using round(score, 2)"
   ],
   "metadata": {}
  },
  {
   "cell_type": "code",
   "execution_count": 166,
   "source": [
    "print(mutual_info_score(price_train, df_train.neighbourhood_group))\n",
    "\n",
    "print(mutual_info_score(price_train, df_train.room_type))"
   ],
   "outputs": [
    {
     "output_type": "stream",
     "name": "stdout",
     "text": [
      "0.04650605348506435\n",
      "0.14322617342090396\n"
     ]
    }
   ],
   "metadata": {}
  },
  {
   "cell_type": "markdown",
   "source": [
    "---\n",
    "---"
   ],
   "metadata": {}
  },
  {
   "cell_type": "markdown",
   "source": [
    "# Question 4\n",
    "## Now let's train a logistic regression\n",
    "+ Remember that we have two categorical variables in the data. Include them using one-hot encoding.\n",
    "    + Fit the model on the training dataset. + To make sure the results are reproducible across different versions of Scikit-Learn, fit the model with these parameters:\n",
    "    + model = LogisticRegression(solver='lbfgs', C=1.0, random_state=42)\n",
    "+ Calculate the accuracy on the validation dataset and rount it to 2 decimal digits."
   ],
   "metadata": {}
  },
  {
   "cell_type": "code",
   "execution_count": 275,
   "source": [
    "# One-hot encoding\n",
    "\n",
    "dv = DictVectorizer(sparse=False)\n",
    "\n",
    "train_dict = df_train.to_dict(orient='records')\n",
    "X_train = dv.fit_transform(train_dict)\n",
    "\n",
    "val_dict = df_val.to_dict(orient='records')\n",
    "X_val = dv.transform(val_dict)"
   ],
   "outputs": [],
   "metadata": {}
  },
  {
   "cell_type": "code",
   "execution_count": 276,
   "source": [
    "# Training the model\n",
    "model = LogisticRegression(solver='lbfgs', C=1.0, random_state=42, max_iter=1000)\n",
    "model.fit(X_train, price_train)"
   ],
   "outputs": [
    {
     "output_type": "execute_result",
     "data": {
      "text/plain": [
       "LogisticRegression(max_iter=1000, random_state=42)"
      ]
     },
     "metadata": {},
     "execution_count": 276
    }
   ],
   "metadata": {}
  },
  {
   "cell_type": "code",
   "execution_count": 281,
   "source": [
    "def accuracy(model, train_val, target_val, treshold=0.5):\n",
    "    prediction = model.predict_proba(train_val)[:,1]\n",
    "    decision = (prediction >= treshold)\n",
    "\n",
    "    df_pred = pd.DataFrame()\n",
    "    df_pred['probability'] = prediction\n",
    "    df_pred['prediction'] = decision.astype(int)\n",
    "    df_pred['actual'] = target_val\n",
    "    df_pred['correct'] = df_pred.prediction == df_pred.actual\n",
    "\n",
    "    return df_pred.correct.mean()\n",
    "\n",
    "print(accuracy(model, X_val, price_val))"
   ],
   "outputs": [
    {
     "output_type": "stream",
     "name": "stdout",
     "text": [
      "0.790878412925657\n"
     ]
    }
   ],
   "metadata": {}
  },
  {
   "cell_type": "markdown",
   "source": [
    "---\n",
    "---"
   ],
   "metadata": {}
  },
  {
   "cell_type": "code",
   "execution_count": 239,
   "source": [
    "[list(df_train.columns)]"
   ],
   "outputs": [
    {
     "output_type": "execute_result",
     "data": {
      "text/plain": [
       "[['latitude',\n",
       "  'longitude',\n",
       "  'minimum_nights',\n",
       "  'number_of_reviews',\n",
       "  'reviews_per_month',\n",
       "  'calculated_host_listings_count',\n",
       "  'availability_365',\n",
       "  'neighbourhood_group',\n",
       "  'room_type']]"
      ]
     },
     "metadata": {},
     "execution_count": 239
    }
   ],
   "metadata": {}
  },
  {
   "cell_type": "code",
   "execution_count": 285,
   "source": [
    "feature_list = list(df_train.columns)\n",
    "\n",
    "\n",
    "for i in range(len(feature_list)):\n",
    "    temporary_list = list(df_train.columns)\n",
    "    temporary_list.remove(feature_list[i])\n",
    "    \n",
    "    # One-hot encoding\n",
    "    dv = DictVectorizer(sparse=False)\n",
    "\n",
    "    train_dict2 = df_train[temporary_list].to_dict(orient='records')\n",
    "    X_train2 = dv.fit_transform(train_dict2)\n",
    "\n",
    "    val_dict2 = df_val.to_dict(orient='records')\n",
    "    X_val2 = dv.transform(val_dict2)\n",
    "\n",
    "    # Training the model\n",
    "    model2 = LogisticRegression(solver='lbfgs', C=1.0, random_state=42, max_iter=1000)\n",
    "    model2.fit(X_train2, price_train)\n",
    "\n",
    "    result = accuracy(model2, X_val2, price_val)\n",
    "\n",
    "    # Assessing model accuracy\n",
    "    # price_pred3 = model3.predict_proba(X_val3)[:,1]\n",
    "    # price_decision3 = (price_pred3 >= 0.5)\n",
    "    # df_pred3 = pd.DataFrame()\n",
    "    # df_pred3['probability'] = price_pred3\n",
    "    # df_pred3['prediction'] = price_decision3.astype(int)\n",
    "    # df_pred3['actual'] = price_val\n",
    "    # df_pred3['correct'] = df_pred3.prediction == df_pred3.actual\n",
    "    # result = df_pred3.correct.mean()\n",
    "\n",
    "    print(f\"The difference for {feature_list[i]} is: {(result_all_features - result)}\")\n",
    "  \n"
   ],
   "outputs": [
    {
     "output_type": "stream",
     "name": "stdout",
     "text": [
      "The difference for latitude is: 0.003988137846405504\n",
      "The difference for longitude is: 0.003885877901625867\n",
      "The difference for minimum_nights is: 0.00010225994477952582\n",
      "The difference for number_of_reviews is: -0.0004090397791185474\n",
      "The difference for reviews_per_month is: 0.0003067798343387995\n",
      "The difference for calculated_host_listings_count is: 0.001329379282135168\n",
      "The difference for availability_365 is: 0.009612434809285197\n",
      "The difference for neighbourhood_group is: 0.039881378464055595\n",
      "The difference for room_type is: 0.06227630637079451\n"
     ]
    }
   ],
   "metadata": {}
  },
  {
   "cell_type": "markdown",
   "source": [
    "---\n",
    "---"
   ],
   "metadata": {}
  },
  {
   "cell_type": "code",
   "execution_count": null,
   "source": [],
   "outputs": [],
   "metadata": {}
  }
 ],
 "metadata": {
  "orig_nbformat": 4,
  "language_info": {
   "name": "python",
   "version": "3.8.11",
   "mimetype": "text/x-python",
   "codemirror_mode": {
    "name": "ipython",
    "version": 3
   },
   "pygments_lexer": "ipython3",
   "nbconvert_exporter": "python",
   "file_extension": ".py"
  },
  "kernelspec": {
   "name": "python3",
   "display_name": "Python 3.8.11 64-bit ('ml-zoomcamp': conda)"
  },
  "interpreter": {
   "hash": "034d71b4374958fb3174e01f7896f6db5ad3b7629d053e5c1ae6901e2ccfe010"
  }
 },
 "nbformat": 4,
 "nbformat_minor": 2
}