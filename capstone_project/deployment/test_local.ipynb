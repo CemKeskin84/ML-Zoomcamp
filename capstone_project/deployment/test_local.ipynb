{
 "cells": [
  {
   "cell_type": "markdown",
   "metadata": {},
   "source": [
    "Don't forget to run Docker before testing using  scripts below (call them within the folder that contains Dockerfile):\n",
    "\n",
    "docker build -t mask-identifier .\n",
    "\n",
    "docker run -it --rm -p 8080:8080  mask-identifier:latest"
   ]
  },
  {
   "cell_type": "code",
   "execution_count": 1,
   "metadata": {},
   "outputs": [],
   "source": [
    "import requests\n",
    "\n",
    "url = 'http://localhost:8080/2015-03-31/functions/function/invocations'\n"
   ]
  },
  {
   "cell_type": "code",
   "execution_count": 2,
   "metadata": {},
   "outputs": [],
   "source": [
    "\n",
    "\n",
    "data = {'url': 'https://raw.githubusercontent.com/CemKeskin84/ML-Zoomcamp/main/capstone_project/sample_images/sample_without_mask.jpg'}\n"
   ]
  },
  {
   "cell_type": "code",
   "execution_count": 4,
   "metadata": {},
   "outputs": [
    {
     "name": "stdout",
     "output_type": "stream",
     "text": [
      "{'Mask(0=with & 1=without)': 1.0}\n"
     ]
    }
   ],
   "source": [
    "\n",
    "result = requests.post(url, json=data).json()\n",
    "print(result)"
   ]
  }
 ],
 "metadata": {
  "interpreter": {
   "hash": "fc1f25b491913acaf1fa3a05d88d5a049730340c5efe431a8a61febc701d6555"
  },
  "kernelspec": {
   "display_name": "Python 3.9.5 64-bit ('capstone_project-vv8hLdoe': pipenv)",
   "language": "python",
   "name": "python3"
  },
  "language_info": {
   "codemirror_mode": {
    "name": "ipython",
    "version": 3
   },
   "file_extension": ".py",
   "mimetype": "text/x-python",
   "name": "python",
   "nbconvert_exporter": "python",
   "pygments_lexer": "ipython3",
   "version": "3.9.5"
  },
  "orig_nbformat": 4
 },
 "nbformat": 4,
 "nbformat_minor": 2
}
