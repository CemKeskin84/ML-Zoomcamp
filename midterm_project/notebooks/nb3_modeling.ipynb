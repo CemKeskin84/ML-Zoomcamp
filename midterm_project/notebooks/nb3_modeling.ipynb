{
 "cells": [
  {
   "cell_type": "code",
   "execution_count": 3,
   "metadata": {},
   "outputs": [],
   "source": [
    "import pandas as pd\n",
    "import numpy as np\n",
    "import seaborn as sns\n",
    "import matplotlib.pyplot as plt\n",
    "\n",
    "from sklearn import multioutput\n",
    "from sklearn.model_selection import train_test_split, GridSearchCV\n",
    "from sklearn.feature_extraction import DictVectorizer\n",
    "from sklearn.linear_model import LinearRegression, Ridge, Lasso\n",
    "from sklearn.tree import DecisionTreeRegressor\n",
    "from sklearn.metrics import mean_squared_error, r2_score\n",
    "from sklearn.ensemble import RandomForestRegressor, ExtraTreesRegressor\n",
    "from xgboost import XGBRegressor"
   ]
  },
  {
   "cell_type": "code",
   "execution_count": 4,
   "metadata": {},
   "outputs": [],
   "source": [
    "raw_data = pd.read_csv('../data/ENB2012_data.csv')\n",
    "\n",
    "df = raw_data.copy()  # keep the raw data as original\n",
    "\n",
    "# Seperate the features and the target variables\n",
    "X = df.iloc[:,0:-2]\n",
    "y = np.log(df[['heating', 'cooling']])"
   ]
  },
  {
   "cell_type": "code",
   "execution_count": 5,
   "metadata": {},
   "outputs": [],
   "source": [
    "# Devide them to training, validation and test parts (60:20:20): \n",
    "X_train_full_df, X_test_df, y_train_full_df, y_test = train_test_split(X, y, test_size = 0.20, random_state = 155)\n",
    "X_train_df, X_val_df, y_train, y_val = train_test_split(X_train_full_df, y_train_full_df, test_size = 0.25, random_state = 155)\n",
    "\n",
    "# Vectorize feature matrices in the form of dictionary (with renewed indexes):\n",
    "dv = DictVectorizer(sparse=False)\n",
    "\n",
    "X_train_df = X_train_df.reset_index(drop=True)\n",
    "X_train_dict = X_train_df.to_dict(orient='records')\n",
    "X_train = dv.fit_transform(X_train_dict)\n",
    "\n",
    "X_val_df = X_val_df.reset_index(drop=True)\n",
    "X_val_dict = X_val_df.to_dict(orient='records')\n",
    "X_val = dv.fit_transform(X_val_dict)\n",
    "\n",
    "X_test_df = X_test_df.reset_index(drop=True)\n",
    "X_test_dict = X_test_df.to_dict(orient='records')\n",
    "X_test = dv.fit_transform(X_test_dict)\n",
    "\n",
    "# Renew the index of target variables\n",
    "y_train = y_train.reset_index(drop=True)\n",
    "y_val = y_val.reset_index(drop=True)\n",
    "y_test = y_test.reset_index(drop=True)\n"
   ]
  },
  {
   "cell_type": "markdown",
   "metadata": {},
   "source": [
    "# Linear Regression"
   ]
  },
  {
   "cell_type": "code",
   "execution_count": 6,
   "metadata": {},
   "outputs": [
    {
     "name": "stdout",
     "output_type": "stream",
     "text": [
      "r2 score: 0.923   RMSE: 0.122\n"
     ]
    }
   ],
   "source": [
    "# Apply the base model\n",
    "lin = LinearRegression()\n",
    "lin.fit(X_train, y_train)\n",
    "\n",
    "#GEt prediction with validation dataset\n",
    "y_pred = lin.predict(X_val)\n",
    "\n",
    "r2 = np.mean(r2_score(y_val, y_pred))\n",
    "rmse= np.sqrt(mean_squared_error(y_val,y_pred))\n",
    "print(f\"r2 score: {r2.round(3)}   RMSE: {rmse.round(3)}\")"
   ]
  },
  {
   "cell_type": "markdown",
   "metadata": {},
   "source": [
    "### Parameter Tuning"
   ]
  },
  {
   "cell_type": "code",
   "execution_count": 7,
   "metadata": {},
   "outputs": [
    {
     "name": "stdout",
     "output_type": "stream",
     "text": [
      "{'fit_intercept': True, 'normalize': True, 'positive': False}\n",
      "r2 score: 0.923   RMSE: 0.122\n"
     ]
    }
   ],
   "source": [
    "lin_parameters = {'normalize' : [True,False],\n",
    "                'positive' : [True,False],\n",
    "                'fit_intercept' : [True,False]            \n",
    "                }\n",
    "\n",
    "\n",
    "lin_v2 = GridSearchCV(lin, lin_parameters, cv=10, n_jobs=-1)\n",
    "\n",
    "\n",
    "lin_v2.fit(X_train, y_train)\n",
    "\n",
    "print('Best Paraneters', lin_v2.best_params_)\n",
    "\n",
    "y_pred_ = lin_v2.best_estimator_.predict(X_val)\n",
    "\n",
    "r2 = np.mean(r2_score(y_val, y_pred_))\n",
    "rmse= np.sqrt(mean_squared_error(y_val,y_pred_))\n",
    "print(f\"Best r2 score: {r2.round(3)}   RMSE: {rmse.round(3)}\")"
   ]
  },
  {
   "cell_type": "markdown",
   "metadata": {},
   "source": [
    "# Lasso Regression"
   ]
  },
  {
   "cell_type": "code",
   "execution_count": 8,
   "metadata": {},
   "outputs": [
    {
     "name": "stdout",
     "output_type": "stream",
     "text": [
      "r2 score: 0.812   RMSE: 0.194\n"
     ]
    }
   ],
   "source": [
    "# Apply the base model\n",
    "ls = Lasso()\n",
    "ls.fit(X_train, y_train)\n",
    "\n",
    "#GEt prediction with validation dataset\n",
    "y_pred = ls.predict(X_val)\n",
    "\n",
    "r2 = np.mean(r2_score(y_val, y_pred))\n",
    "rmse= np.sqrt(mean_squared_error(y_val,y_pred))\n",
    "print(f\"r2 score: {r2.round(3)}   RMSE: {rmse.round(3)}\")"
   ]
  },
  {
   "cell_type": "markdown",
   "metadata": {},
   "source": [
    "### Parameter Tuning"
   ]
  },
  {
   "cell_type": "code",
   "execution_count": 9,
   "metadata": {},
   "outputs": [
    {
     "name": "stdout",
     "output_type": "stream",
     "text": [
      "{'alpha': 0.5, 'fit_intercept': True, 'max_iter': 1000, 'normalize': False, 'positive': False}\n",
      "r2 score: 0.817   RMSE: 0.192\n"
     ]
    }
   ],
   "source": [
    "ls_parameters = {'normalize' : [True,False],\n",
    "                'positive' : [True,False],\n",
    "                'fit_intercept' : [True,False],\n",
    "                'max_iter': [1000, 5000, 10000],\n",
    "                'alpha': [0.5, 1, 1.5, 2.0]                \n",
    "                }\n",
    "\n",
    "ls_v2 = GridSearchCV(ls, ls_parameters, cv=10, n_jobs=-1)\n",
    "\n",
    "\n",
    "ls_v2.fit(X_train, y_train)\n",
    "\n",
    "print('Best Paraneters', ls_v2.best_params_)\n",
    "\n",
    "y_pred_ = ls_v2.best_estimator_.predict(X_val)\n",
    "\n",
    "r2 = np.mean(r2_score(y_val, y_pred_))\n",
    "rmse= np.sqrt(mean_squared_error(y_val,y_pred_))\n",
    "print(f\"Best r2 score: {r2.round(3)}   RMSE: {rmse.round(3)}\")"
   ]
  },
  {
   "cell_type": "markdown",
   "metadata": {},
   "source": [
    "# Ridge Regression"
   ]
  },
  {
   "cell_type": "code",
   "execution_count": 10,
   "metadata": {},
   "outputs": [
    {
     "name": "stdout",
     "output_type": "stream",
     "text": [
      "r2 score: 0.921   RMSE: 0.123\n"
     ]
    }
   ],
   "source": [
    "# Apply the base model\n",
    "rd = Ridge()\n",
    "rd.fit(X_train, y_train)\n",
    "\n",
    "#GEt prediction with validation dataset\n",
    "y_pred = rd.predict(X_val)\n",
    "\n",
    "r2 = np.mean(r2_score(y_val, y_pred))\n",
    "rmse= np.sqrt(mean_squared_error(y_val,y_pred))\n",
    "print(f\"r2 score: {r2.round(3)}   RMSE: {rmse.round(3)}\")"
   ]
  },
  {
   "cell_type": "markdown",
   "metadata": {},
   "source": [
    "### Parameter Tuning"
   ]
  },
  {
   "cell_type": "code",
   "execution_count": 11,
   "metadata": {},
   "outputs": [
    {
     "name": "stdout",
     "output_type": "stream",
     "text": [
      "{'alpha': 0.5, 'fit_intercept': True, 'max_iter': 1000, 'normalize': False}\n",
      "r2 score: 0.922   RMSE: 0.123\n"
     ]
    }
   ],
   "source": [
    "rd_parameters = {'normalize' : [True,False],\n",
    "                'fit_intercept' : [True,False],\n",
    "                'max_iter': [1000, 5000, 10000],\n",
    "                'alpha': [0.5, 1, 1.5]\n",
    "                }\n",
    "\n",
    "rd_v2 = GridSearchCV(rd, rd_parameters, cv=10, n_jobs=-1)\n",
    "\n",
    "\n",
    "rd_v2.fit(X_train, y_train)\n",
    "\n",
    "print('Best Paraneters',rd_v2.best_params_)\n",
    "\n",
    "y_pred_ = rd_v2.best_estimator_.predict(X_val)\n",
    "\n",
    "r2 = np.mean(r2_score(y_val, y_pred_))\n",
    "rmse= np.sqrt(mean_squared_error(y_val,y_pred_))\n",
    "print(f\"Best r2 score: {r2.round(3)}   RMSE: {rmse.round(3)}\")"
   ]
  },
  {
   "cell_type": "markdown",
   "metadata": {},
   "source": [
    "# Decision Tree Regression"
   ]
  },
  {
   "cell_type": "code",
   "execution_count": 12,
   "metadata": {},
   "outputs": [
    {
     "name": "stdout",
     "output_type": "stream",
     "text": [
      "r2 score: 0.978   RMSE: 0.06\n"
     ]
    }
   ],
   "source": [
    "# Apply the base model\n",
    "dt = DecisionTreeRegressor(random_state=155)\n",
    "dt.fit(X_train, y_train)\n",
    "\n",
    "#GEt prediction with validation dataset\n",
    "y_pred = dt.predict(X_val)\n",
    "\n",
    "r2 = np.mean(r2_score(y_val, y_pred))\n",
    "rmse= np.sqrt(mean_squared_error(y_val,y_pred))\n",
    "print(f\"r2 score: {r2.round(3)}   RMSE: {rmse.round(3)}\")"
   ]
  },
  {
   "cell_type": "markdown",
   "metadata": {},
   "source": [
    "### Parameter Tuning"
   ]
  },
  {
   "cell_type": "code",
   "execution_count": 14,
   "metadata": {},
   "outputs": [
    {
     "name": "stdout",
     "output_type": "stream",
     "text": [
      "{'max_depth': 10, 'min_samples_leaf': 3}\n",
      "r2 score: 0.983   RMSE: 0.055\n"
     ]
    }
   ],
   "source": [
    "parameters = {'max_depth' : [5,10,15],\n",
    "              'min_samples_leaf' : [1,3,5,10,50]           \n",
    "              }\n",
    "\n",
    "\n",
    "dt_v2 = GridSearchCV(dt, parameters, cv=10, n_jobs=-1)\n",
    "\n",
    "\n",
    "dt_v2.fit(X_train, y_train)\n",
    "\n",
    "print('Best Paraneters', dt_v2.best_params_)\n",
    "\n",
    "y_pred_ = dt_v2.best_estimator_.predict(X_val)\n",
    "\n",
    "r2 = np.mean(r2_score(y_val, y_pred_))\n",
    "rmse= np.sqrt(mean_squared_error(y_val,y_pred_))\n",
    "print(f\"Best r2 score: {r2.round(3)}   RMSE: {rmse.round(3)}\")"
   ]
  },
  {
   "cell_type": "markdown",
   "metadata": {},
   "source": [
    "# Random Forest Regression"
   ]
  },
  {
   "cell_type": "code",
   "execution_count": 15,
   "metadata": {},
   "outputs": [
    {
     "name": "stdout",
     "output_type": "stream",
     "text": [
      "r2 score: 0.986   RMSE: 0.048\n"
     ]
    }
   ],
   "source": [
    "# Apply the base model\n",
    "rf = RandomForestRegressor(random_state=155)\n",
    "rf.fit(X_train, y_train)\n",
    "\n",
    "#GEt prediction with validation dataset\n",
    "y_pred = rf.predict(X_val)\n",
    "\n",
    "r2 = np.mean(r2_score(y_val, y_pred))\n",
    "rmse= np.sqrt(mean_squared_error(y_val,y_pred))\n",
    "print(f\"r2 score: {r2.round(3)}   RMSE: {rmse.round(3)}\")"
   ]
  },
  {
   "cell_type": "markdown",
   "metadata": {},
   "source": [
    "### Parameter Tuning"
   ]
  },
  {
   "cell_type": "code",
   "execution_count": 16,
   "metadata": {},
   "outputs": [
    {
     "name": "stdout",
     "output_type": "stream",
     "text": [
      "{'max_depth': 10, 'min_samples_leaf': 1, 'n_estimators': 150}\n",
      "r2 score: 0.986   RMSE: 0.048\n"
     ]
    }
   ],
   "source": [
    "rf_parameters = {'max_depth' : [None,5,10,15,25],\n",
    "                'min_samples_leaf' : [1,3,5,10,50],\n",
    "                'n_estimators': np.arange(50,501,50)\n",
    "                }\n",
    "\n",
    "rf_v2 = GridSearchCV(rf, rf_parameters, cv=10, n_jobs=-1)\n",
    "\n",
    "\n",
    "rf_v2.fit(X_train, y_train)\n",
    "\n",
    "print('Best Paraneters', rf_v2.best_params_)\n",
    "\n",
    "y_pred_ = rf_v2.best_estimator_.predict(X_val)\n",
    "\n",
    "r2 = np.mean(r2_score(y_val, y_pred_))\n",
    "rmse= np.sqrt(mean_squared_error(y_val,y_pred_))\n",
    "print(f\"Best r2 score: {r2.round(3)}   RMSE: {rmse.round(3)}\")"
   ]
  },
  {
   "cell_type": "markdown",
   "metadata": {},
   "source": [
    "# Extra Tree Regression"
   ]
  },
  {
   "cell_type": "code",
   "execution_count": 17,
   "metadata": {},
   "outputs": [
    {
     "name": "stdout",
     "output_type": "stream",
     "text": [
      "r2 score: 0.986   RMSE: 0.049\n"
     ]
    }
   ],
   "source": [
    "# Apply the model\n",
    "xt = ExtraTreesRegressor(random_state=155)\n",
    "xt.fit(X_train, y_train)\n",
    "\n",
    "#GEt prediction with validation dataset\n",
    "y_pred = xt.predict(X_val)\n",
    "\n",
    "r2 = np.mean(r2_score(y_val, y_pred))\n",
    "rmse= np.sqrt(mean_squared_error(y_val,y_pred))\n",
    "print(f\"r2 score: {r2.round(3)}   RMSE: {rmse.round(3)}\")"
   ]
  },
  {
   "cell_type": "markdown",
   "metadata": {},
   "source": [
    "### Parameter Tuning"
   ]
  },
  {
   "cell_type": "code",
   "execution_count": 18,
   "metadata": {},
   "outputs": [
    {
     "name": "stdout",
     "output_type": "stream",
     "text": [
      "{'max_depth': 15, 'min_samples_leaf': 3, 'n_estimators': 50}\n",
      "r2 score: 0.985   RMSE: 0.051\n"
     ]
    }
   ],
   "source": [
    "xt_parameters = {'max_depth' : [5,10,15,25],\n",
    "                'min_samples_leaf' : [1,3,5,10],\n",
    "                'n_estimators': np.arange(50,501,50)\n",
    "                }\n",
    "\n",
    "xt_v2 = GridSearchCV(xt, xt_parameters, cv=10, n_jobs=-1)\n",
    "\n",
    "\n",
    "xt_v2.fit(X_train, y_train)\n",
    "\n",
    "print('Best Paraneters', xt_v2.best_params_)\n",
    "\n",
    "y_pred_ = xt_v2.best_estimator_.predict(X_val)\n",
    "\n",
    "r2 = np.mean(r2_score(y_val, y_pred_))\n",
    "rmse= np.sqrt(mean_squared_error(y_val,y_pred_))\n",
    "print(f\"Best r2 score: {r2.round(3)}   RMSE: {rmse.round(3)}\")"
   ]
  },
  {
   "cell_type": "markdown",
   "metadata": {},
   "source": [
    "# XGboost Regression"
   ]
  },
  {
   "cell_type": "code",
   "execution_count": 19,
   "metadata": {},
   "outputs": [
    {
     "name": "stdout",
     "output_type": "stream",
     "text": [
      "r2 score: 0.994   RMSE: 0.033\n"
     ]
    }
   ],
   "source": [
    "xgb = XGBRegressor(n_estimators=2000, max_depth=20, learning_rate=0.01)\n",
    "mxgb = multioutput.MultiOutputRegressor(xgb)\n",
    "mxgb.fit(X_train, y_train)\n",
    "y_pred = mxgb.predict(X_val)\n",
    "\n",
    "r2 = np.mean(r2_score(y_val, y_pred))\n",
    "rmse= np.sqrt(mean_squared_error(y_val,y_pred))\n",
    "print(f\"r2 score: {r2.round(3)}   RMSE: {rmse.round(3)}\")"
   ]
  },
  {
   "cell_type": "markdown",
   "metadata": {},
   "source": [
    "### Parameter Tuning"
   ]
  },
  {
   "cell_type": "code",
   "execution_count": 20,
   "metadata": {},
   "outputs": [
    {
     "name": "stdout",
     "output_type": "stream",
     "text": [
      "For (500,5,0.2) r2 score: 0.99648   RMSE: 0.02503\n",
      "For (500,5,0.4) r2 score: 0.99593   RMSE: 0.02651\n",
      "For (500,5,0.6) r2 score: 0.99559   RMSE: 0.02765\n",
      "For (500,5,0.8) r2 score: 0.9962   RMSE: 0.026\n",
      "For (500,5,1.0) r2 score: 0.99558   RMSE: 0.02854\n",
      "For (500,10,0.2) r2 score: 0.99467   RMSE: 0.03002\n",
      "For (500,10,0.4) r2 score: 0.99484   RMSE: 0.02953\n",
      "For (500,10,0.6) r2 score: 0.99531   RMSE: 0.02839\n",
      "For (500,10,0.8) r2 score: 0.99311   RMSE: 0.03418\n",
      "For (500,10,1.0) r2 score: 0.98706   RMSE: 0.0476\n",
      "For (500,15,0.2) r2 score: 0.99467   RMSE: 0.03\n",
      "For (500,15,0.4) r2 score: 0.99473   RMSE: 0.02981\n",
      "For (500,15,0.6) r2 score: 0.99471   RMSE: 0.03005\n",
      "For (500,15,0.8) r2 score: 0.99364   RMSE: 0.03295\n",
      "For (500,15,1.0) r2 score: 0.98992   RMSE: 0.04218\n",
      "For (500,20,0.2) r2 score: 0.99467   RMSE: 0.03\n",
      "For (500,20,0.4) r2 score: 0.99473   RMSE: 0.02981\n",
      "For (500,20,0.6) r2 score: 0.99471   RMSE: 0.03005\n",
      "For (500,20,0.8) r2 score: 0.99364   RMSE: 0.03294\n",
      "For (500,20,1.0) r2 score: 0.98994   RMSE: 0.04215\n",
      "For (1000,5,0.2) r2 score: 0.99648   RMSE: 0.02503\n",
      "For (1000,5,0.4) r2 score: 0.99593   RMSE: 0.02651\n",
      "For (1000,5,0.6) r2 score: 0.99559   RMSE: 0.02765\n",
      "For (1000,5,0.8) r2 score: 0.9962   RMSE: 0.026\n",
      "For (1000,5,1.0) r2 score: 0.99558   RMSE: 0.02854\n",
      "For (1000,10,0.2) r2 score: 0.99467   RMSE: 0.03002\n",
      "For (1000,10,0.4) r2 score: 0.99484   RMSE: 0.02953\n",
      "For (1000,10,0.6) r2 score: 0.99531   RMSE: 0.02839\n",
      "For (1000,10,0.8) r2 score: 0.99311   RMSE: 0.03418\n",
      "For (1000,10,1.0) r2 score: 0.98706   RMSE: 0.0476\n",
      "For (1000,15,0.2) r2 score: 0.99467   RMSE: 0.03\n",
      "For (1000,15,0.4) r2 score: 0.99473   RMSE: 0.02981\n",
      "For (1000,15,0.6) r2 score: 0.99471   RMSE: 0.03005\n",
      "For (1000,15,0.8) r2 score: 0.99364   RMSE: 0.03295\n",
      "For (1000,15,1.0) r2 score: 0.98992   RMSE: 0.04218\n",
      "For (1000,20,0.2) r2 score: 0.99467   RMSE: 0.03\n",
      "For (1000,20,0.4) r2 score: 0.99473   RMSE: 0.02981\n",
      "For (1000,20,0.6) r2 score: 0.99471   RMSE: 0.03005\n",
      "For (1000,20,0.8) r2 score: 0.99364   RMSE: 0.03294\n",
      "For (1000,20,1.0) r2 score: 0.98994   RMSE: 0.04215\n",
      "For (1500,5,0.2) r2 score: 0.99648   RMSE: 0.02503\n",
      "For (1500,5,0.4) r2 score: 0.99593   RMSE: 0.02651\n",
      "For (1500,5,0.6) r2 score: 0.99559   RMSE: 0.02765\n",
      "For (1500,5,0.8) r2 score: 0.9962   RMSE: 0.026\n",
      "For (1500,5,1.0) r2 score: 0.99558   RMSE: 0.02854\n",
      "For (1500,10,0.2) r2 score: 0.99467   RMSE: 0.03002\n",
      "For (1500,10,0.4) r2 score: 0.99484   RMSE: 0.02953\n",
      "For (1500,10,0.6) r2 score: 0.99531   RMSE: 0.02839\n",
      "For (1500,10,0.8) r2 score: 0.99311   RMSE: 0.03418\n",
      "For (1500,10,1.0) r2 score: 0.98706   RMSE: 0.0476\n",
      "For (1500,15,0.2) r2 score: 0.99467   RMSE: 0.03\n",
      "For (1500,15,0.4) r2 score: 0.99473   RMSE: 0.02981\n",
      "For (1500,15,0.6) r2 score: 0.99471   RMSE: 0.03005\n",
      "For (1500,15,0.8) r2 score: 0.99364   RMSE: 0.03295\n",
      "For (1500,15,1.0) r2 score: 0.98992   RMSE: 0.04218\n",
      "For (1500,20,0.2) r2 score: 0.99467   RMSE: 0.03\n",
      "For (1500,20,0.4) r2 score: 0.99473   RMSE: 0.02981\n",
      "For (1500,20,0.6) r2 score: 0.99471   RMSE: 0.03005\n",
      "For (1500,20,0.8) r2 score: 0.99364   RMSE: 0.03294\n",
      "For (1500,20,1.0) r2 score: 0.98994   RMSE: 0.04215\n",
      "For (2000,5,0.2) r2 score: 0.99648   RMSE: 0.02503\n",
      "For (2000,5,0.4) r2 score: 0.99593   RMSE: 0.02651\n",
      "For (2000,5,0.6) r2 score: 0.99559   RMSE: 0.02765\n",
      "For (2000,5,0.8) r2 score: 0.9962   RMSE: 0.026\n",
      "For (2000,5,1.0) r2 score: 0.99558   RMSE: 0.02854\n",
      "For (2000,10,0.2) r2 score: 0.99467   RMSE: 0.03002\n",
      "For (2000,10,0.4) r2 score: 0.99484   RMSE: 0.02953\n",
      "For (2000,10,0.6) r2 score: 0.99531   RMSE: 0.02839\n",
      "For (2000,10,0.8) r2 score: 0.99311   RMSE: 0.03418\n",
      "For (2000,10,1.0) r2 score: 0.98706   RMSE: 0.0476\n",
      "For (2000,15,0.2) r2 score: 0.99467   RMSE: 0.03\n",
      "For (2000,15,0.4) r2 score: 0.99473   RMSE: 0.02981\n",
      "For (2000,15,0.6) r2 score: 0.99471   RMSE: 0.03005\n",
      "For (2000,15,0.8) r2 score: 0.99364   RMSE: 0.03295\n",
      "For (2000,15,1.0) r2 score: 0.98992   RMSE: 0.04218\n",
      "For (2000,20,0.2) r2 score: 0.99467   RMSE: 0.03\n",
      "For (2000,20,0.4) r2 score: 0.99473   RMSE: 0.02981\n",
      "For (2000,20,0.6) r2 score: 0.99471   RMSE: 0.03005\n",
      "For (2000,20,0.8) r2 score: 0.99364   RMSE: 0.03294\n",
      "For (2000,20,1.0) r2 score: 0.98994   RMSE: 0.04215\n",
      "For (2500,5,0.2) r2 score: 0.99648   RMSE: 0.02503\n",
      "For (2500,5,0.4) r2 score: 0.99593   RMSE: 0.02651\n",
      "For (2500,5,0.6) r2 score: 0.99559   RMSE: 0.02765\n",
      "For (2500,5,0.8) r2 score: 0.9962   RMSE: 0.026\n",
      "For (2500,5,1.0) r2 score: 0.99558   RMSE: 0.02854\n",
      "For (2500,10,0.2) r2 score: 0.99467   RMSE: 0.03002\n",
      "For (2500,10,0.4) r2 score: 0.99484   RMSE: 0.02953\n",
      "For (2500,10,0.6) r2 score: 0.99531   RMSE: 0.02839\n",
      "For (2500,10,0.8) r2 score: 0.99311   RMSE: 0.03418\n",
      "For (2500,10,1.0) r2 score: 0.98706   RMSE: 0.0476\n",
      "For (2500,15,0.2) r2 score: 0.99467   RMSE: 0.03\n",
      "For (2500,15,0.4) r2 score: 0.99473   RMSE: 0.02981\n",
      "For (2500,15,0.6) r2 score: 0.99471   RMSE: 0.03005\n",
      "For (2500,15,0.8) r2 score: 0.99364   RMSE: 0.03295\n",
      "For (2500,15,1.0) r2 score: 0.98992   RMSE: 0.04218\n",
      "For (2500,20,0.2) r2 score: 0.99467   RMSE: 0.03\n",
      "For (2500,20,0.4) r2 score: 0.99473   RMSE: 0.02981\n",
      "For (2500,20,0.6) r2 score: 0.99471   RMSE: 0.03005\n",
      "For (2500,20,0.8) r2 score: 0.99364   RMSE: 0.03294\n",
      "For (2500,20,1.0) r2 score: 0.98994   RMSE: 0.04215\n"
     ]
    }
   ],
   "source": [
    "for n in range(500,2501,500):\n",
    "    for d in range(5,21,5):\n",
    "        for l in [x / 10.0 for x in range(2, 11, 2)]:\n",
    "            xgb = XGBRegressor(n_estimators=n, max_depth=d, learning_rate=l)\n",
    "            mxgb = multioutput.MultiOutputRegressor(xgb)\n",
    "            mxgb.fit(X_train, y_train)\n",
    "            y_pred = mxgb.predict(X_val)\n",
    "\n",
    "            r2 = np.mean(r2_score(y_val, y_pred))\n",
    "            rmse= np.sqrt(mean_squared_error(y_val,y_pred))\n",
    "            print(f\"For ({n},{d},{l}) r2 score: {r2.round(5)}   RMSE: {rmse.round(5)}\")\n"
   ]
  },
  {
   "cell_type": "markdown",
   "metadata": {},
   "source": [
    "Best (n,d,l)=(500,5,0.2) with r2 score: 0.99648   RMSE: 0.02503"
   ]
  }
 ],
 "metadata": {
  "interpreter": {
   "hash": "f5f7483d825ec8916a49b5a43b4dad91169a17003e9451f48c72d77bd99561f0"
  },
  "kernelspec": {
   "display_name": "Python 3.9.5 64-bit ('projectV3-eirq330h': pipenv)",
   "name": "python3"
  },
  "language_info": {
   "codemirror_mode": {
    "name": "ipython",
    "version": 3
   },
   "file_extension": ".py",
   "mimetype": "text/x-python",
   "name": "python",
   "nbconvert_exporter": "python",
   "pygments_lexer": "ipython3",
   "version": "3.9.5"
  },
  "orig_nbformat": 4
 },
 "nbformat": 4,
 "nbformat_minor": 2
}
