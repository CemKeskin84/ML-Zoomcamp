{
 "cells": [
  {
   "cell_type": "code",
   "execution_count": null,
   "metadata": {},
   "outputs": [],
   "source": [
    "import numpy as np\n",
    "import matplotlib.pyplot as plt\n",
    "\n",
    "import tensorflow\n",
    "from tensorflow import keras\n",
    "from tensorflow.keras import layers\n",
    "from tensorflow.keras import models\n",
    "from tensorflow.keras import optimizers\n",
    "from tensorflow.keras.preprocessing.image import ImageDataGenerator"
   ]
  },
  {
   "cell_type": "code",
   "execution_count": 2,
   "metadata": {},
   "outputs": [],
   "source": [
    "train_dir = '../data/train'\n",
    "valid_dir = '../data/validation'"
   ]
  },
  {
   "cell_type": "code",
   "execution_count": null,
   "metadata": {},
   "outputs": [],
   "source": [
    "from keras.models import Sequential\n",
    "from keras.layers import Dense,Activation,Flatten,Dropout\n",
    "from keras.layers import Conv2D,MaxPooling2D\n",
    "from keras.callbacks import ModelCheckpoint\n",
    "\n",
    "model=Sequential()\n",
    "\n",
    "model.add(Conv2D(32,(3,3),input_shape=(100, 100, 3)))\n",
    "model.add(Activation('relu'))\n",
    "model.add(MaxPooling2D(pool_size=(2,2)))\n",
    "\n",
    "model.add(Conv2D(16,(3,3),input_shape=(100, 100, 3)))\n",
    "model.add(Activation('relu'))\n",
    "model.add(MaxPooling2D(pool_size=(2,2)))\n",
    "\n",
    "model.add(Flatten())\n",
    "model.add(Dropout(0.5))\n",
    "model.add(Dense(8,activation='relu'))\n",
    "model.add(Dense(1,activation='sigmoid'))"
   ]
  },
  {
   "cell_type": "code",
   "execution_count": 4,
   "metadata": {},
   "outputs": [],
   "source": [
    "model.compile(loss='binary_crossentropy',\\\n",
    "             optimizer=optimizers.SGD(learning_rate=0.01, momentum=0.9),\n",
    "             metrics=['acc'])"
   ]
  },
  {
   "cell_type": "code",
   "execution_count": 5,
   "metadata": {},
   "outputs": [
    {
     "name": "stdout",
     "output_type": "stream",
     "text": [
      "Found 824 images belonging to 2 classes.\n"
     ]
    }
   ],
   "source": [
    "train_datagen = ImageDataGenerator(rescale=1./255)\n",
    "\n",
    "train_generator = train_datagen.flow_from_directory(train_dir,\n",
    "                                                    target_size=(100, 100),\n",
    "                                                    batch_size=10,\n",
    "                                                    class_mode='binary')"
   ]
  },
  {
   "cell_type": "code",
   "execution_count": 6,
   "metadata": {},
   "outputs": [
    {
     "name": "stdout",
     "output_type": "stream",
     "text": [
      "Found 274 images belonging to 2 classes.\n"
     ]
    }
   ],
   "source": [
    "val_datagen = ImageDataGenerator(rescale=1./255)\n",
    "validation_generator = val_datagen.flow_from_directory(valid_dir,\n",
    "                                                        target_size=(100, 100),\n",
    "                                                        batch_size=10,\n",
    "                                                        class_mode='binary')"
   ]
  },
  {
   "cell_type": "code",
   "execution_count": 7,
   "metadata": {},
   "outputs": [
    {
     "name": "stdout",
     "output_type": "stream",
     "text": [
      "Epoch 1/10\n",
      "83/83 [==============================] - 6s 70ms/step - loss: 0.6316 - acc: 0.6687 - val_loss: 0.3989 - val_acc: 0.9234\n",
      "Epoch 2/10\n",
      "83/83 [==============================] - 6s 68ms/step - loss: 0.3356 - acc: 0.9138 - val_loss: 0.1730 - val_acc: 0.9818\n",
      "Epoch 3/10\n",
      "83/83 [==============================] - 6s 67ms/step - loss: 0.2979 - acc: 0.8932 - val_loss: 0.6109 - val_acc: 0.6825\n",
      "Epoch 4/10\n",
      "83/83 [==============================] - 6s 66ms/step - loss: 0.3181 - acc: 0.8968 - val_loss: 0.2474 - val_acc: 0.9197\n",
      "Epoch 5/10\n",
      "83/83 [==============================] - 6s 68ms/step - loss: 0.1948 - acc: 0.9454 - val_loss: 0.1804 - val_acc: 0.9526\n",
      "Epoch 6/10\n",
      "83/83 [==============================] - 6s 66ms/step - loss: 0.1341 - acc: 0.9636 - val_loss: 0.1304 - val_acc: 0.9708\n",
      "Epoch 7/10\n",
      "83/83 [==============================] - 6s 67ms/step - loss: 0.1328 - acc: 0.9563 - val_loss: 0.1845 - val_acc: 0.9416\n",
      "Epoch 8/10\n",
      "83/83 [==============================] - 6s 76ms/step - loss: 0.2286 - acc: 0.9357 - val_loss: 0.2190 - val_acc: 0.9234\n",
      "Epoch 9/10\n",
      "83/83 [==============================] - 6s 71ms/step - loss: 0.1082 - acc: 0.9672 - val_loss: 0.1294 - val_acc: 0.9818\n",
      "Epoch 10/10\n",
      "83/83 [==============================] - 6s 69ms/step - loss: 0.0982 - acc: 0.9709 - val_loss: 0.4527 - val_acc: 0.8321\n"
     ]
    }
   ],
   "source": [
    "history = model.fit(\n",
    "    train_generator,\n",
    "    epochs=10,\n",
    "    validation_data=validation_generator)"
   ]
  },
  {
   "cell_type": "code",
   "execution_count": 8,
   "metadata": {},
   "outputs": [
    {
     "data": {
      "image/png": "[encoded data removed]",
      "text/plain": [
       "<Figure size 432x288 with 1 Axes>"
      ]
     },
     "metadata": {
      "needs_background": "light"
     },
     "output_type": "display_data"
    },
    {
     "data": {
      "image/png": "[encoded data removed]",
      "text/plain": [
       "<Figure size 432x288 with 1 Axes>"
      ]
     },
     "metadata": {
      "needs_background": "light"
     },
     "output_type": "display_data"
    }
   ],
   "source": [
    "acc = history.history['acc']\n",
    "val_acc = history.history['val_acc']\n",
    "loss = history.history['loss']\n",
    "val_loss = history.history['val_loss']\n",
    "\n",
    "epochs = range(1, len(acc) + 1)\n",
    "\n",
    "plt.plot(epochs, acc, 'bo', label='Training acc')\n",
    "plt.plot(epochs, val_acc, 'b', label='Validation acc')\n",
    "plt.title('Training and Validation Accuracy')\n",
    "plt.legend()\n",
    "\n",
    "plt.figure()\n",
    "\n",
    "plt.plot(epochs, loss, 'bo', label='Training loss')\n",
    "plt.plot(epochs, val_loss, 'b', label='Validation loss')\n",
    "plt.title('Training and Validation Loss')\n",
    "plt.legend()\n",
    "\n",
    "plt.show()"
   ]
  },
  {
   "cell_type": "markdown",
   "metadata": {},
   "source": [
    "## Checkpointing\n",
    "\n",
    "Note: Kernel restarted here and the .fit() method is called without calling above. That is only the model and data preperation cells were run before running the cells below."
   ]
  },
  {
   "cell_type": "code",
   "execution_count": 7,
   "metadata": {},
   "outputs": [],
   "source": [
    "model.save_weights('model_v1.h5', save_format='h5')\n"
   ]
  },
  {
   "cell_type": "code",
   "execution_count": 8,
   "metadata": {},
   "outputs": [],
   "source": [
    "checkpoint = keras.callbacks.ModelCheckpoint(\n",
    "    'best_model_{epoch:02d}_{val_acc:.3f}.h5',\n",
    "    save_best_only=True,\n",
    "    monitor='val_acc',\n",
    "    mode='max'\n",
    ")"
   ]
  },
  {
   "cell_type": "code",
   "execution_count": 9,
   "metadata": {},
   "outputs": [
    {
     "name": "stdout",
     "output_type": "stream",
     "text": [
      "Epoch 1/10\n",
      "83/83 [==============================] - 6s 68ms/step - loss: 0.4532 - acc: 0.7743 - val_loss: 0.2299 - val_acc: 0.9088\n",
      "Epoch 2/10\n",
      "83/83 [==============================] - 5s 66ms/step - loss: 0.2539 - acc: 0.9126 - val_loss: 0.1207 - val_acc: 0.9635\n",
      "Epoch 3/10\n",
      "83/83 [==============================] - 5s 66ms/step - loss: 0.1050 - acc: 0.9648 - val_loss: 0.2096 - val_acc: 0.8905\n",
      "Epoch 4/10\n",
      "83/83 [==============================] - 5s 65ms/step - loss: 0.1537 - acc: 0.9454 - val_loss: 0.1559 - val_acc: 0.9562\n",
      "Epoch 5/10\n",
      "83/83 [==============================] - 5s 65ms/step - loss: 0.0834 - acc: 0.9672 - val_loss: 0.1310 - val_acc: 0.9745\n",
      "Epoch 6/10\n",
      "83/83 [==============================] - 6s 68ms/step - loss: 0.0716 - acc: 0.9697 - val_loss: 0.0868 - val_acc: 0.9854\n",
      "Epoch 7/10\n",
      "83/83 [==============================] - 6s 66ms/step - loss: 0.5002 - acc: 0.7791 - val_loss: 0.3479 - val_acc: 0.9270\n",
      "Epoch 8/10\n",
      "83/83 [==============================] - 5s 65ms/step - loss: 0.3570 - acc: 0.8738 - val_loss: 0.1794 - val_acc: 0.9526\n",
      "Epoch 9/10\n",
      "83/83 [==============================] - 5s 63ms/step - loss: 0.2442 - acc: 0.9320 - val_loss: 0.1259 - val_acc: 0.9635\n",
      "Epoch 10/10\n",
      "83/83 [==============================] - 5s 61ms/step - loss: 0.4389 - acc: 0.7888 - val_loss: 0.2205 - val_acc: 0.9562\n"
     ]
    }
   ],
   "source": [
    "history = model.fit(\n",
    "    train_generator,\n",
    "    epochs=10,\n",
    "    validation_data=validation_generator,\n",
    "    callbacks=[checkpoint]  \n",
    "    )"
   ]
  }
 ],
 "metadata": {
  "interpreter": {
   "hash": "67de9129e85b6ce40c6d317f2103d3ac6b9c38842974809819d8338464ec6a5c"
  },
  "kernelspec": {
   "display_name": "Python 3.9.5 64-bit ('capstone--Jvhu1NK': pipenv)",
   "language": "python",
   "name": "python3"
  },
  "language_info": {
   "codemirror_mode": {
    "name": "ipython",
    "version": 3
   },
   "file_extension": ".py",
   "mimetype": "text/x-python",
   "name": "python",
   "nbconvert_exporter": "python",
   "pygments_lexer": "ipython3",
   "version": "3.9.5"
  },
  "orig_nbformat": 4
 },
 "nbformat": 4,
 "nbformat_minor": 2
}
